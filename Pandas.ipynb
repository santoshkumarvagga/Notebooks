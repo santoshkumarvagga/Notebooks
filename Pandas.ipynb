{
 "metadata": {
  "language_info": {
   "codemirror_mode": {
    "name": "ipython",
    "version": 3
   },
   "file_extension": ".py",
   "mimetype": "text/x-python",
   "name": "python",
   "nbconvert_exporter": "python",
   "pygments_lexer": "ipython3",
   "version": "3.8.3-final"
  },
  "orig_nbformat": 2,
  "kernelspec": {
   "name": "python3",
   "display_name": "Python 3"
  }
 },
 "nbformat": 4,
 "nbformat_minor": 2,
 "cells": [
  {
   "source": [
    "## Introduction to Pandas: Series and Dataframes"
   ],
   "cell_type": "markdown",
   "metadata": {}
  },
  {
   "source": [
    "Series: like one dimensional array, not restricted to just numeric types, optimised for iterating through values. Built on top of numpy.\n",
    "\n",
    "Dataframe : like Two dimensional array with row indices and column names. Can contain Mixed type attributes."
   ],
   "cell_type": "markdown",
   "metadata": {}
  },
  {
   "source": [
    "Series:"
   ],
   "cell_type": "markdown",
   "metadata": {}
  },
  {
   "source": [
    "# Create a Series : using pd.Series(numpy_array)\n",
    "import pandas as pd \n",
    "import numpy as np\n",
    "\n",
    "m = pd.Series([1,2,3,4,5])\n",
    "\n",
    "# print m\n",
    "m"
   ],
   "cell_type": "code",
   "metadata": {},
   "execution_count": 1,
   "outputs": [
    {
     "output_type": "execute_result",
     "data": {
      "text/plain": [
       "0    1\n",
       "1    2\n",
       "2    3\n",
       "3    4\n",
       "4    5\n",
       "dtype: int64"
      ]
     },
     "metadata": {},
     "execution_count": 1
    }
   ]
  },
  {
   "source": [
    "# Accessing elements of a series : like a 1d list \n",
    "# to print single index\n",
    "m[1]"
   ],
   "cell_type": "code",
   "metadata": {},
   "execution_count": 2,
   "outputs": [
    {
     "output_type": "execute_result",
     "data": {
      "text/plain": [
       "2"
      ]
     },
     "metadata": {},
     "execution_count": 2
    }
   ]
  },
  {
   "cell_type": "code",
   "execution_count": 3,
   "metadata": {},
   "outputs": [
    {
     "output_type": "execute_result",
     "data": {
      "text/plain": [
       "1    2\n",
       "2    3\n",
       "3    4\n",
       "4    5\n",
       "dtype: int64"
      ]
     },
     "metadata": {},
     "execution_count": 3
    }
   ],
   "source": [
    "# to print set of indices(rows) : print all rows from index 1\n",
    "m[1:]"
   ]
  },
  {
   "source": [
    "# we can print random indexed rows \n",
    "# NOTE: m[1,3] will not work to print indices 1 and 3, We need pass in a list like [1,3] in original []\n",
    "m[[1,3]]\n"
   ],
   "cell_type": "code",
   "metadata": {},
   "execution_count": 4,
   "outputs": [
    {
     "output_type": "execute_result",
     "data": {
      "text/plain": [
       "1    2\n",
       "3    4\n",
       "dtype: int64"
      ]
     },
     "metadata": {},
     "execution_count": 4
    }
   ]
  },
  {
   "cell_type": "code",
   "execution_count": 5,
   "metadata": {},
   "outputs": [
    {
     "output_type": "error",
     "ename": "AttributeError",
     "evalue": "'numpy.ndarray' object has no attribute 'apply'",
     "traceback": [
      "\u001b[1;31m---------------------------------------------------------------------------\u001b[0m",
      "\u001b[1;31mAttributeError\u001b[0m                            Traceback (most recent call last)",
      "\u001b[1;32m<ipython-input-5-3974c2b372d2>\u001b[0m in \u001b[0;36m<module>\u001b[1;34m\u001b[0m\n\u001b[0;32m      1\u001b[0m \u001b[1;31m#To contrast with numpy array and pandas series, we have an apply() that applies a function to each element of it. and this is supported only for pandas series.\u001b[0m\u001b[1;33m\u001b[0m\u001b[1;33m\u001b[0m\u001b[1;33m\u001b[0m\u001b[0m\n\u001b[1;32m----> 2\u001b[1;33m \u001b[0mnp\u001b[0m\u001b[1;33m.\u001b[0m\u001b[0marange\u001b[0m\u001b[1;33m(\u001b[0m\u001b[1;36m10\u001b[0m\u001b[1;33m)\u001b[0m\u001b[1;33m.\u001b[0m\u001b[0mapply\u001b[0m\u001b[1;33m(\u001b[0m\u001b[1;32mlambda\u001b[0m \u001b[0mx\u001b[0m\u001b[1;33m:\u001b[0m\u001b[0mx\u001b[0m\u001b[1;33m+\u001b[0m\u001b[1;36m1\u001b[0m\u001b[1;33m)\u001b[0m\u001b[1;33m\u001b[0m\u001b[1;33m\u001b[0m\u001b[0m\n\u001b[0m",
      "\u001b[1;31mAttributeError\u001b[0m: 'numpy.ndarray' object has no attribute 'apply'"
     ]
    }
   ],
   "source": [
    "#To contrast with numpy array and pandas series, we have an apply() that applies a function to each element of it. and this is supported only for pandas series.\n",
    "np.arange(10).apply(lambda x:x+1)"
   ]
  },
  {
   "cell_type": "code",
   "execution_count": 6,
   "metadata": {},
   "outputs": [
    {
     "output_type": "execute_result",
     "data": {
      "text/plain": [
       "0    2\n",
       "1    3\n",
       "2    4\n",
       "3    5\n",
       "dtype: int64"
      ]
     },
     "metadata": {},
     "execution_count": 6
    }
   ],
   "source": [
    "pd.Series([1,2,3,4]).apply(lambda x:x+1)"
   ]
  },
  {
   "source": [
    "Dataframes: Real world data is mentioned i this format. Every row is an object and every column is an attribute."
   ],
   "cell_type": "markdown",
   "metadata": {}
  },
  {
   "source": [
    "Creating Dataframes : many Ways\n",
    "1) from Dictionary\n",
    "2) from csv file\n",
    "3) from json file\n",
    "4) from text file"
   ],
   "cell_type": "code",
   "metadata": {},
   "execution_count": null,
   "outputs": []
  },
  {
   "cell_type": "code",
   "execution_count": null,
   "metadata": {},
   "outputs": [],
   "source": [
    "# 1) from Dictionary:\n",
    "df = pd.DataFrame({'Name':['Santoshkumar vagga', 'Suraj Chauhan', 'Satish Biradar', 'Uday Poddar'],\n",
    "                    'Age':[25,26,24,27],\n",
    "                    'Education':['M.Sc','M.D', 'B.E', 'M.E']})\n",
    "df"
   ]
  },
  {
   "cell_type": "code",
   "execution_count": 8,
   "metadata": {},
   "outputs": [
    {
     "output_type": "execute_result",
     "data": {
      "text/plain": [
       "  Team       Captain   Vice_Captain  Won_times  Total_Seasons  Squad_team  \\\n",
       "0  RCB   Virat Kohli  AB de villers        NaN             12          40   \n",
       "1   MI  Rohit Sharma      K Pollard        5.0             12          38   \n",
       "2  CSK      MS Dhoni       A Jadeja        3.0             10          41   \n",
       "3  KXP      KL Rahul      M Agarwal        NaN             11          42   \n",
       "4  KKR      D Kartik       A Russel        2.0              8          38   \n",
       "5  SRH       Dwarner       M Pandey        1.0              7          39   \n",
       "6   DC        S Iyer         R Pant        2.0             12          40   \n",
       "7   RR       S Smith       A Rahane        1.0              8          39   \n",
       "\n",
       "       Type    Age  \n",
       "0       IPL  30-35  \n",
       "1       IPL  30-35  \n",
       "2       ODI  35-40  \n",
       "3       ODI  25-30  \n",
       "4       ODI  30-35  \n",
       "5       IPL  20-25  \n",
       "6  Domestic  20-25  \n",
       "7  Domestic  25-30  "
      ],
      "text/html": "<div>\n<style scoped>\n    .dataframe tbody tr th:only-of-type {\n        vertical-align: middle;\n    }\n\n    .dataframe tbody tr th {\n        vertical-align: top;\n    }\n\n    .dataframe thead th {\n        text-align: right;\n    }\n</style>\n<table border=\"1\" class=\"dataframe\">\n  <thead>\n    <tr style=\"text-align: right;\">\n      <th></th>\n      <th>Team</th>\n      <th>Captain</th>\n      <th>Vice_Captain</th>\n      <th>Won_times</th>\n      <th>Total_Seasons</th>\n      <th>Squad_team</th>\n      <th>Type</th>\n      <th>Age</th>\n    </tr>\n  </thead>\n  <tbody>\n    <tr>\n      <th>0</th>\n      <td>RCB</td>\n      <td>Virat Kohli</td>\n      <td>AB de villers</td>\n      <td>NaN</td>\n      <td>12</td>\n      <td>40</td>\n      <td>IPL</td>\n      <td>30-35</td>\n    </tr>\n    <tr>\n      <th>1</th>\n      <td>MI</td>\n      <td>Rohit Sharma</td>\n      <td>K Pollard</td>\n      <td>5.0</td>\n      <td>12</td>\n      <td>38</td>\n      <td>IPL</td>\n      <td>30-35</td>\n    </tr>\n    <tr>\n      <th>2</th>\n      <td>CSK</td>\n      <td>MS Dhoni</td>\n      <td>A Jadeja</td>\n      <td>3.0</td>\n      <td>10</td>\n      <td>41</td>\n      <td>ODI</td>\n      <td>35-40</td>\n    </tr>\n    <tr>\n      <th>3</th>\n      <td>KXP</td>\n      <td>KL Rahul</td>\n      <td>M Agarwal</td>\n      <td>NaN</td>\n      <td>11</td>\n      <td>42</td>\n      <td>ODI</td>\n      <td>25-30</td>\n    </tr>\n    <tr>\n      <th>4</th>\n      <td>KKR</td>\n      <td>D Kartik</td>\n      <td>A Russel</td>\n      <td>2.0</td>\n      <td>8</td>\n      <td>38</td>\n      <td>ODI</td>\n      <td>30-35</td>\n    </tr>\n    <tr>\n      <th>5</th>\n      <td>SRH</td>\n      <td>Dwarner</td>\n      <td>M Pandey</td>\n      <td>1.0</td>\n      <td>7</td>\n      <td>39</td>\n      <td>IPL</td>\n      <td>20-25</td>\n    </tr>\n    <tr>\n      <th>6</th>\n      <td>DC</td>\n      <td>S Iyer</td>\n      <td>R Pant</td>\n      <td>2.0</td>\n      <td>12</td>\n      <td>40</td>\n      <td>Domestic</td>\n      <td>20-25</td>\n    </tr>\n    <tr>\n      <th>7</th>\n      <td>RR</td>\n      <td>S Smith</td>\n      <td>A Rahane</td>\n      <td>1.0</td>\n      <td>8</td>\n      <td>39</td>\n      <td>Domestic</td>\n      <td>25-30</td>\n    </tr>\n  </tbody>\n</table>\n</div>"
     },
     "metadata": {},
     "execution_count": 8
    }
   ],
   "source": [
    "# 2) from csv: NOTE: Save as CSV(Comma delimited)\n",
    "df = pd.read_csv(\"sample_book.csv\")\n",
    "df"
   ]
  },
  {
   "source": [
    "Reading and Summarising Dataframes"
   ],
   "cell_type": "markdown",
   "metadata": {}
  },
  {
   "cell_type": "code",
   "execution_count": 9,
   "metadata": {},
   "outputs": [
    {
     "output_type": "execute_result",
     "data": {
      "text/plain": [
       "  Team       Captain   Vice_Captain  Won_times  Total_Seasons  Squad_team  \\\n",
       "0  RCB   Virat Kohli  AB de villers        NaN             12          40   \n",
       "1   MI  Rohit Sharma      K Pollard        5.0             12          38   \n",
       "2  CSK      MS Dhoni       A Jadeja        3.0             10          41   \n",
       "3  KXP      KL Rahul      M Agarwal        NaN             11          42   \n",
       "4  KKR      D Kartik       A Russel        2.0              8          38   \n",
       "\n",
       "  Type    Age  \n",
       "0  IPL  30-35  \n",
       "1  IPL  30-35  \n",
       "2  ODI  35-40  \n",
       "3  ODI  25-30  \n",
       "4  ODI  30-35  "
      ],
      "text/html": "<div>\n<style scoped>\n    .dataframe tbody tr th:only-of-type {\n        vertical-align: middle;\n    }\n\n    .dataframe tbody tr th {\n        vertical-align: top;\n    }\n\n    .dataframe thead th {\n        text-align: right;\n    }\n</style>\n<table border=\"1\" class=\"dataframe\">\n  <thead>\n    <tr style=\"text-align: right;\">\n      <th></th>\n      <th>Team</th>\n      <th>Captain</th>\n      <th>Vice_Captain</th>\n      <th>Won_times</th>\n      <th>Total_Seasons</th>\n      <th>Squad_team</th>\n      <th>Type</th>\n      <th>Age</th>\n    </tr>\n  </thead>\n  <tbody>\n    <tr>\n      <th>0</th>\n      <td>RCB</td>\n      <td>Virat Kohli</td>\n      <td>AB de villers</td>\n      <td>NaN</td>\n      <td>12</td>\n      <td>40</td>\n      <td>IPL</td>\n      <td>30-35</td>\n    </tr>\n    <tr>\n      <th>1</th>\n      <td>MI</td>\n      <td>Rohit Sharma</td>\n      <td>K Pollard</td>\n      <td>5.0</td>\n      <td>12</td>\n      <td>38</td>\n      <td>IPL</td>\n      <td>30-35</td>\n    </tr>\n    <tr>\n      <th>2</th>\n      <td>CSK</td>\n      <td>MS Dhoni</td>\n      <td>A Jadeja</td>\n      <td>3.0</td>\n      <td>10</td>\n      <td>41</td>\n      <td>ODI</td>\n      <td>35-40</td>\n    </tr>\n    <tr>\n      <th>3</th>\n      <td>KXP</td>\n      <td>KL Rahul</td>\n      <td>M Agarwal</td>\n      <td>NaN</td>\n      <td>11</td>\n      <td>42</td>\n      <td>ODI</td>\n      <td>25-30</td>\n    </tr>\n    <tr>\n      <th>4</th>\n      <td>KKR</td>\n      <td>D Kartik</td>\n      <td>A Russel</td>\n      <td>2.0</td>\n      <td>8</td>\n      <td>38</td>\n      <td>ODI</td>\n      <td>30-35</td>\n    </tr>\n  </tbody>\n</table>\n</div>"
     },
     "metadata": {},
     "execution_count": 9
    }
   ],
   "source": [
    "# Print top 5 rows\n",
    "df.head()"
   ]
  },
  {
   "cell_type": "code",
   "execution_count": 10,
   "metadata": {},
   "outputs": [
    {
     "output_type": "execute_result",
     "data": {
      "text/plain": [
       "  Team   Captain Vice_Captain  Won_times  Total_Seasons  Squad_team      Type  \\\n",
       "3  KXP  KL Rahul    M Agarwal        NaN             11          42       ODI   \n",
       "4  KKR  D Kartik     A Russel        2.0              8          38       ODI   \n",
       "5  SRH   Dwarner     M Pandey        1.0              7          39       IPL   \n",
       "6   DC    S Iyer       R Pant        2.0             12          40  Domestic   \n",
       "7   RR   S Smith     A Rahane        1.0              8          39  Domestic   \n",
       "\n",
       "     Age  \n",
       "3  25-30  \n",
       "4  30-35  \n",
       "5  20-25  \n",
       "6  20-25  \n",
       "7  25-30  "
      ],
      "text/html": "<div>\n<style scoped>\n    .dataframe tbody tr th:only-of-type {\n        vertical-align: middle;\n    }\n\n    .dataframe tbody tr th {\n        vertical-align: top;\n    }\n\n    .dataframe thead th {\n        text-align: right;\n    }\n</style>\n<table border=\"1\" class=\"dataframe\">\n  <thead>\n    <tr style=\"text-align: right;\">\n      <th></th>\n      <th>Team</th>\n      <th>Captain</th>\n      <th>Vice_Captain</th>\n      <th>Won_times</th>\n      <th>Total_Seasons</th>\n      <th>Squad_team</th>\n      <th>Type</th>\n      <th>Age</th>\n    </tr>\n  </thead>\n  <tbody>\n    <tr>\n      <th>3</th>\n      <td>KXP</td>\n      <td>KL Rahul</td>\n      <td>M Agarwal</td>\n      <td>NaN</td>\n      <td>11</td>\n      <td>42</td>\n      <td>ODI</td>\n      <td>25-30</td>\n    </tr>\n    <tr>\n      <th>4</th>\n      <td>KKR</td>\n      <td>D Kartik</td>\n      <td>A Russel</td>\n      <td>2.0</td>\n      <td>8</td>\n      <td>38</td>\n      <td>ODI</td>\n      <td>30-35</td>\n    </tr>\n    <tr>\n      <th>5</th>\n      <td>SRH</td>\n      <td>Dwarner</td>\n      <td>M Pandey</td>\n      <td>1.0</td>\n      <td>7</td>\n      <td>39</td>\n      <td>IPL</td>\n      <td>20-25</td>\n    </tr>\n    <tr>\n      <th>6</th>\n      <td>DC</td>\n      <td>S Iyer</td>\n      <td>R Pant</td>\n      <td>2.0</td>\n      <td>12</td>\n      <td>40</td>\n      <td>Domestic</td>\n      <td>20-25</td>\n    </tr>\n    <tr>\n      <th>7</th>\n      <td>RR</td>\n      <td>S Smith</td>\n      <td>A Rahane</td>\n      <td>1.0</td>\n      <td>8</td>\n      <td>39</td>\n      <td>Domestic</td>\n      <td>25-30</td>\n    </tr>\n  </tbody>\n</table>\n</div>"
     },
     "metadata": {},
     "execution_count": 10
    }
   ],
   "source": [
    "# print last 5 rows\n",
    "df.tail()"
   ]
  },
  {
   "cell_type": "code",
   "execution_count": 11,
   "metadata": {},
   "outputs": [
    {
     "output_type": "stream",
     "name": "stdout",
     "text": [
      "<class 'pandas.core.frame.DataFrame'>\nRangeIndex: 8 entries, 0 to 7\nData columns (total 8 columns):\n #   Column         Non-Null Count  Dtype  \n---  ------         --------------  -----  \n 0   Team           8 non-null      object \n 1   Captain        8 non-null      object \n 2   Vice_Captain   8 non-null      object \n 3   Won_times      6 non-null      float64\n 4   Total_Seasons  8 non-null      int64  \n 5   Squad_team     8 non-null      int64  \n 6   Type           8 non-null      object \n 7   Age            8 non-null      object \ndtypes: float64(1), int64(2), object(5)\nmemory usage: 640.0+ bytes\n"
     ]
    }
   ],
   "source": [
    "# to know datatypes of each column\n",
    "df.info()"
   ]
  },
  {
   "cell_type": "code",
   "execution_count": 12,
   "metadata": {},
   "outputs": [
    {
     "output_type": "execute_result",
     "data": {
      "text/plain": [
       "(8, 8)"
      ]
     },
     "metadata": {},
     "execution_count": 12
    }
   ],
   "source": [
    "# to know total rows and columns\n",
    "df.shape"
   ]
  },
  {
   "cell_type": "code",
   "execution_count": 13,
   "metadata": {},
   "outputs": [
    {
     "output_type": "execute_result",
     "data": {
      "text/plain": [
       "       Won_times  Total_Seasons  Squad_team\n",
       "count   6.000000       8.000000    8.000000\n",
       "mean    2.333333      10.000000   39.625000\n",
       "std     1.505545       2.070197    1.407886\n",
       "min     1.000000       7.000000   38.000000\n",
       "25%     1.250000       8.000000   38.750000\n",
       "50%     2.000000      10.500000   39.500000\n",
       "75%     2.750000      12.000000   40.250000\n",
       "max     5.000000      12.000000   42.000000"
      ],
      "text/html": "<div>\n<style scoped>\n    .dataframe tbody tr th:only-of-type {\n        vertical-align: middle;\n    }\n\n    .dataframe tbody tr th {\n        vertical-align: top;\n    }\n\n    .dataframe thead th {\n        text-align: right;\n    }\n</style>\n<table border=\"1\" class=\"dataframe\">\n  <thead>\n    <tr style=\"text-align: right;\">\n      <th></th>\n      <th>Won_times</th>\n      <th>Total_Seasons</th>\n      <th>Squad_team</th>\n    </tr>\n  </thead>\n  <tbody>\n    <tr>\n      <th>count</th>\n      <td>6.000000</td>\n      <td>8.000000</td>\n      <td>8.000000</td>\n    </tr>\n    <tr>\n      <th>mean</th>\n      <td>2.333333</td>\n      <td>10.000000</td>\n      <td>39.625000</td>\n    </tr>\n    <tr>\n      <th>std</th>\n      <td>1.505545</td>\n      <td>2.070197</td>\n      <td>1.407886</td>\n    </tr>\n    <tr>\n      <th>min</th>\n      <td>1.000000</td>\n      <td>7.000000</td>\n      <td>38.000000</td>\n    </tr>\n    <tr>\n      <th>25%</th>\n      <td>1.250000</td>\n      <td>8.000000</td>\n      <td>38.750000</td>\n    </tr>\n    <tr>\n      <th>50%</th>\n      <td>2.000000</td>\n      <td>10.500000</td>\n      <td>39.500000</td>\n    </tr>\n    <tr>\n      <th>75%</th>\n      <td>2.750000</td>\n      <td>12.000000</td>\n      <td>40.250000</td>\n    </tr>\n    <tr>\n      <th>max</th>\n      <td>5.000000</td>\n      <td>12.000000</td>\n      <td>42.000000</td>\n    </tr>\n  </tbody>\n</table>\n</div>"
     },
     "metadata": {},
     "execution_count": 13
    }
   ],
   "source": [
    "# to get numerical statistics of each column like mean, min, max(only for numeric type columns)\n",
    "df.describe()"
   ]
  },
  {
   "cell_type": "code",
   "execution_count": 14,
   "metadata": {},
   "outputs": [
    {
     "output_type": "execute_result",
     "data": {
      "text/plain": [
       "Index(['Team', 'Captain', 'Vice_Captain', 'Won_times', 'Total_Seasons',\n",
       "       'Squad_team', 'Type', 'Age'],\n",
       "      dtype='object')"
      ]
     },
     "metadata": {},
     "execution_count": 14
    }
   ],
   "source": [
    "# get all column names of dataframe\n",
    "df.columns"
   ]
  },
  {
   "cell_type": "code",
   "execution_count": 15,
   "metadata": {},
   "outputs": [
    {
     "output_type": "execute_result",
     "data": {
      "text/plain": [
       "array([['RCB', 'Virat Kohli', 'AB de villers', nan, 12, 40, 'IPL',\n",
       "        '30-35'],\n",
       "       ['MI', 'Rohit Sharma', 'K Pollard', 5.0, 12, 38, 'IPL', '30-35'],\n",
       "       ['CSK', 'MS Dhoni', 'A Jadeja', 3.0, 10, 41, 'ODI', '35-40'],\n",
       "       ['KXP', 'KL Rahul', 'M Agarwal', nan, 11, 42, 'ODI', '25-30'],\n",
       "       ['KKR', 'D Kartik', 'A Russel', 2.0, 8, 38, 'ODI', '30-35'],\n",
       "       ['SRH', 'Dwarner', 'M Pandey', 1.0, 7, 39, 'IPL', '20-25'],\n",
       "       ['DC', 'S Iyer', 'R Pant', 2.0, 12, 40, 'Domestic', '20-25'],\n",
       "       ['RR', 'S Smith', 'A Rahane', 1.0, 8, 39, 'Domestic', '25-30']],\n",
       "      dtype=object)"
      ]
     },
     "metadata": {},
     "execution_count": 15
    }
   ],
   "source": [
    "# get each row as numpy array\n",
    "df.values"
   ]
  },
  {
   "source": [
    "Set custom index column: using set_index()"
   ],
   "cell_type": "markdown",
   "metadata": {}
  },
  {
   "cell_type": "code",
   "execution_count": 16,
   "metadata": {},
   "outputs": [
    {
     "output_type": "execute_result",
     "data": {
      "text/plain": [
       "           Captain   Vice_Captain  Won_times  Total_Seasons  Squad_team  \\\n",
       "Team                                                                      \n",
       "RCB    Virat Kohli  AB de villers        NaN             12          40   \n",
       "MI    Rohit Sharma      K Pollard        5.0             12          38   \n",
       "CSK       MS Dhoni       A Jadeja        3.0             10          41   \n",
       "KXP       KL Rahul      M Agarwal        NaN             11          42   \n",
       "KKR       D Kartik       A Russel        2.0              8          38   \n",
       "SRH        Dwarner       M Pandey        1.0              7          39   \n",
       "DC          S Iyer         R Pant        2.0             12          40   \n",
       "RR         S Smith       A Rahane        1.0              8          39   \n",
       "\n",
       "          Type    Age  \n",
       "Team                   \n",
       "RCB        IPL  30-35  \n",
       "MI         IPL  30-35  \n",
       "CSK        ODI  35-40  \n",
       "KXP        ODI  25-30  \n",
       "KKR        ODI  30-35  \n",
       "SRH        IPL  20-25  \n",
       "DC    Domestic  20-25  \n",
       "RR    Domestic  25-30  "
      ],
      "text/html": "<div>\n<style scoped>\n    .dataframe tbody tr th:only-of-type {\n        vertical-align: middle;\n    }\n\n    .dataframe tbody tr th {\n        vertical-align: top;\n    }\n\n    .dataframe thead th {\n        text-align: right;\n    }\n</style>\n<table border=\"1\" class=\"dataframe\">\n  <thead>\n    <tr style=\"text-align: right;\">\n      <th></th>\n      <th>Captain</th>\n      <th>Vice_Captain</th>\n      <th>Won_times</th>\n      <th>Total_Seasons</th>\n      <th>Squad_team</th>\n      <th>Type</th>\n      <th>Age</th>\n    </tr>\n    <tr>\n      <th>Team</th>\n      <th></th>\n      <th></th>\n      <th></th>\n      <th></th>\n      <th></th>\n      <th></th>\n      <th></th>\n    </tr>\n  </thead>\n  <tbody>\n    <tr>\n      <th>RCB</th>\n      <td>Virat Kohli</td>\n      <td>AB de villers</td>\n      <td>NaN</td>\n      <td>12</td>\n      <td>40</td>\n      <td>IPL</td>\n      <td>30-35</td>\n    </tr>\n    <tr>\n      <th>MI</th>\n      <td>Rohit Sharma</td>\n      <td>K Pollard</td>\n      <td>5.0</td>\n      <td>12</td>\n      <td>38</td>\n      <td>IPL</td>\n      <td>30-35</td>\n    </tr>\n    <tr>\n      <th>CSK</th>\n      <td>MS Dhoni</td>\n      <td>A Jadeja</td>\n      <td>3.0</td>\n      <td>10</td>\n      <td>41</td>\n      <td>ODI</td>\n      <td>35-40</td>\n    </tr>\n    <tr>\n      <th>KXP</th>\n      <td>KL Rahul</td>\n      <td>M Agarwal</td>\n      <td>NaN</td>\n      <td>11</td>\n      <td>42</td>\n      <td>ODI</td>\n      <td>25-30</td>\n    </tr>\n    <tr>\n      <th>KKR</th>\n      <td>D Kartik</td>\n      <td>A Russel</td>\n      <td>2.0</td>\n      <td>8</td>\n      <td>38</td>\n      <td>ODI</td>\n      <td>30-35</td>\n    </tr>\n    <tr>\n      <th>SRH</th>\n      <td>Dwarner</td>\n      <td>M Pandey</td>\n      <td>1.0</td>\n      <td>7</td>\n      <td>39</td>\n      <td>IPL</td>\n      <td>20-25</td>\n    </tr>\n    <tr>\n      <th>DC</th>\n      <td>S Iyer</td>\n      <td>R Pant</td>\n      <td>2.0</td>\n      <td>12</td>\n      <td>40</td>\n      <td>Domestic</td>\n      <td>20-25</td>\n    </tr>\n    <tr>\n      <th>RR</th>\n      <td>S Smith</td>\n      <td>A Rahane</td>\n      <td>1.0</td>\n      <td>8</td>\n      <td>39</td>\n      <td>Domestic</td>\n      <td>25-30</td>\n    </tr>\n  </tbody>\n</table>\n</div>"
     },
     "metadata": {},
     "execution_count": 16
    }
   ],
   "source": [
    "df = pd.read_csv(\"sample_book.csv\")\n",
    "df.set_index('Team', inplace=True)\n",
    "df"
   ]
  },
  {
   "source": [
    "Sorting Dataframes:\n"
   ],
   "cell_type": "markdown",
   "metadata": {}
  },
  {
   "source": [
    "1) Sorting Index:"
   ],
   "cell_type": "markdown",
   "metadata": {}
  },
  {
   "cell_type": "code",
   "execution_count": 17,
   "metadata": {},
   "outputs": [
    {
     "output_type": "execute_result",
     "data": {
      "text/plain": [
       "           Captain   Vice_Captain  Won_times  Total_Seasons  Squad_team  \\\n",
       "Team                                                                      \n",
       "CSK       MS Dhoni       A Jadeja        3.0             10          41   \n",
       "DC          S Iyer         R Pant        2.0             12          40   \n",
       "KKR       D Kartik       A Russel        2.0              8          38   \n",
       "KXP       KL Rahul      M Agarwal        NaN             11          42   \n",
       "MI    Rohit Sharma      K Pollard        5.0             12          38   \n",
       "RCB    Virat Kohli  AB de villers        NaN             12          40   \n",
       "RR         S Smith       A Rahane        1.0              8          39   \n",
       "SRH        Dwarner       M Pandey        1.0              7          39   \n",
       "\n",
       "          Type    Age  \n",
       "Team                   \n",
       "CSK        ODI  35-40  \n",
       "DC    Domestic  20-25  \n",
       "KKR        ODI  30-35  \n",
       "KXP        ODI  25-30  \n",
       "MI         IPL  30-35  \n",
       "RCB        IPL  30-35  \n",
       "RR    Domestic  25-30  \n",
       "SRH        IPL  20-25  "
      ],
      "text/html": "<div>\n<style scoped>\n    .dataframe tbody tr th:only-of-type {\n        vertical-align: middle;\n    }\n\n    .dataframe tbody tr th {\n        vertical-align: top;\n    }\n\n    .dataframe thead th {\n        text-align: right;\n    }\n</style>\n<table border=\"1\" class=\"dataframe\">\n  <thead>\n    <tr style=\"text-align: right;\">\n      <th></th>\n      <th>Captain</th>\n      <th>Vice_Captain</th>\n      <th>Won_times</th>\n      <th>Total_Seasons</th>\n      <th>Squad_team</th>\n      <th>Type</th>\n      <th>Age</th>\n    </tr>\n    <tr>\n      <th>Team</th>\n      <th></th>\n      <th></th>\n      <th></th>\n      <th></th>\n      <th></th>\n      <th></th>\n      <th></th>\n    </tr>\n  </thead>\n  <tbody>\n    <tr>\n      <th>CSK</th>\n      <td>MS Dhoni</td>\n      <td>A Jadeja</td>\n      <td>3.0</td>\n      <td>10</td>\n      <td>41</td>\n      <td>ODI</td>\n      <td>35-40</td>\n    </tr>\n    <tr>\n      <th>DC</th>\n      <td>S Iyer</td>\n      <td>R Pant</td>\n      <td>2.0</td>\n      <td>12</td>\n      <td>40</td>\n      <td>Domestic</td>\n      <td>20-25</td>\n    </tr>\n    <tr>\n      <th>KKR</th>\n      <td>D Kartik</td>\n      <td>A Russel</td>\n      <td>2.0</td>\n      <td>8</td>\n      <td>38</td>\n      <td>ODI</td>\n      <td>30-35</td>\n    </tr>\n    <tr>\n      <th>KXP</th>\n      <td>KL Rahul</td>\n      <td>M Agarwal</td>\n      <td>NaN</td>\n      <td>11</td>\n      <td>42</td>\n      <td>ODI</td>\n      <td>25-30</td>\n    </tr>\n    <tr>\n      <th>MI</th>\n      <td>Rohit Sharma</td>\n      <td>K Pollard</td>\n      <td>5.0</td>\n      <td>12</td>\n      <td>38</td>\n      <td>IPL</td>\n      <td>30-35</td>\n    </tr>\n    <tr>\n      <th>RCB</th>\n      <td>Virat Kohli</td>\n      <td>AB de villers</td>\n      <td>NaN</td>\n      <td>12</td>\n      <td>40</td>\n      <td>IPL</td>\n      <td>30-35</td>\n    </tr>\n    <tr>\n      <th>RR</th>\n      <td>S Smith</td>\n      <td>A Rahane</td>\n      <td>1.0</td>\n      <td>8</td>\n      <td>39</td>\n      <td>Domestic</td>\n      <td>25-30</td>\n    </tr>\n    <tr>\n      <th>SRH</th>\n      <td>Dwarner</td>\n      <td>M Pandey</td>\n      <td>1.0</td>\n      <td>7</td>\n      <td>39</td>\n      <td>IPL</td>\n      <td>20-25</td>\n    </tr>\n  </tbody>\n</table>\n</div>"
     },
     "metadata": {},
     "execution_count": 17
    }
   ],
   "source": [
    "# 1) Sort Index: using sort_index() \n",
    "import pandas as pd\n",
    "df = pd.read_csv(\"sample_book.csv\")\n",
    "df.set_index('Team', inplace=True)\n",
    "df.sort_index(ascending=True, inplace = True)\n",
    "df"
   ]
  },
  {
   "source": [
    "2) Sorting Values: We can also sort by any custom column(s)"
   ],
   "cell_type": "markdown",
   "metadata": {}
  },
  {
   "source": [
    "# using sort_values(axis=0, ascending = Truem inplace=True)\n",
    "# Note: if axis =1, it considers coulumn wise. if axis = 0, then it considers row wise."
   ],
   "cell_type": "code",
   "metadata": {},
   "execution_count": 18,
   "outputs": []
  },
  {
   "cell_type": "code",
   "execution_count": 19,
   "metadata": {},
   "outputs": [
    {
     "output_type": "execute_result",
     "data": {
      "text/plain": [
       "           Captain   Vice_Captain  Won_times  Total_Seasons  Squad_team  \\\n",
       "Team                                                                      \n",
       "KXP       KL Rahul      M Agarwal        NaN             11          42   \n",
       "CSK       MS Dhoni       A Jadeja        3.0             10          41   \n",
       "DC          S Iyer         R Pant        2.0             12          40   \n",
       "RCB    Virat Kohli  AB de villers        NaN             12          40   \n",
       "RR         S Smith       A Rahane        1.0              8          39   \n",
       "SRH        Dwarner       M Pandey        1.0              7          39   \n",
       "KKR       D Kartik       A Russel        2.0              8          38   \n",
       "MI    Rohit Sharma      K Pollard        5.0             12          38   \n",
       "\n",
       "          Type    Age  \n",
       "Team                   \n",
       "KXP        ODI  25-30  \n",
       "CSK        ODI  35-40  \n",
       "DC    Domestic  20-25  \n",
       "RCB        IPL  30-35  \n",
       "RR    Domestic  25-30  \n",
       "SRH        IPL  20-25  \n",
       "KKR        ODI  30-35  \n",
       "MI         IPL  30-35  "
      ],
      "text/html": "<div>\n<style scoped>\n    .dataframe tbody tr th:only-of-type {\n        vertical-align: middle;\n    }\n\n    .dataframe tbody tr th {\n        vertical-align: top;\n    }\n\n    .dataframe thead th {\n        text-align: right;\n    }\n</style>\n<table border=\"1\" class=\"dataframe\">\n  <thead>\n    <tr style=\"text-align: right;\">\n      <th></th>\n      <th>Captain</th>\n      <th>Vice_Captain</th>\n      <th>Won_times</th>\n      <th>Total_Seasons</th>\n      <th>Squad_team</th>\n      <th>Type</th>\n      <th>Age</th>\n    </tr>\n    <tr>\n      <th>Team</th>\n      <th></th>\n      <th></th>\n      <th></th>\n      <th></th>\n      <th></th>\n      <th></th>\n      <th></th>\n    </tr>\n  </thead>\n  <tbody>\n    <tr>\n      <th>KXP</th>\n      <td>KL Rahul</td>\n      <td>M Agarwal</td>\n      <td>NaN</td>\n      <td>11</td>\n      <td>42</td>\n      <td>ODI</td>\n      <td>25-30</td>\n    </tr>\n    <tr>\n      <th>CSK</th>\n      <td>MS Dhoni</td>\n      <td>A Jadeja</td>\n      <td>3.0</td>\n      <td>10</td>\n      <td>41</td>\n      <td>ODI</td>\n      <td>35-40</td>\n    </tr>\n    <tr>\n      <th>DC</th>\n      <td>S Iyer</td>\n      <td>R Pant</td>\n      <td>2.0</td>\n      <td>12</td>\n      <td>40</td>\n      <td>Domestic</td>\n      <td>20-25</td>\n    </tr>\n    <tr>\n      <th>RCB</th>\n      <td>Virat Kohli</td>\n      <td>AB de villers</td>\n      <td>NaN</td>\n      <td>12</td>\n      <td>40</td>\n      <td>IPL</td>\n      <td>30-35</td>\n    </tr>\n    <tr>\n      <th>RR</th>\n      <td>S Smith</td>\n      <td>A Rahane</td>\n      <td>1.0</td>\n      <td>8</td>\n      <td>39</td>\n      <td>Domestic</td>\n      <td>25-30</td>\n    </tr>\n    <tr>\n      <th>SRH</th>\n      <td>Dwarner</td>\n      <td>M Pandey</td>\n      <td>1.0</td>\n      <td>7</td>\n      <td>39</td>\n      <td>IPL</td>\n      <td>20-25</td>\n    </tr>\n    <tr>\n      <th>KKR</th>\n      <td>D Kartik</td>\n      <td>A Russel</td>\n      <td>2.0</td>\n      <td>8</td>\n      <td>38</td>\n      <td>ODI</td>\n      <td>30-35</td>\n    </tr>\n    <tr>\n      <th>MI</th>\n      <td>Rohit Sharma</td>\n      <td>K Pollard</td>\n      <td>5.0</td>\n      <td>12</td>\n      <td>38</td>\n      <td>IPL</td>\n      <td>30-35</td>\n    </tr>\n  </tbody>\n</table>\n</div>"
     },
     "metadata": {},
     "execution_count": 19
    }
   ],
   "source": [
    "df.sort_values('Squad_team', ascending=False, inplace=True)\n",
    "df"
   ]
  },
  {
   "cell_type": "code",
   "execution_count": 20,
   "metadata": {},
   "outputs": [
    {
     "output_type": "execute_result",
     "data": {
      "text/plain": [
       "           Captain   Vice_Captain  Won_times  Total_Seasons  Squad_team  \\\n",
       "Team                                                                      \n",
       "SRH        Dwarner       M Pandey        1.0              7          39   \n",
       "KKR       D Kartik       A Russel        2.0              8          38   \n",
       "RR         S Smith       A Rahane        1.0              8          39   \n",
       "CSK       MS Dhoni       A Jadeja        3.0             10          41   \n",
       "KXP       KL Rahul      M Agarwal        NaN             11          42   \n",
       "MI    Rohit Sharma      K Pollard        5.0             12          38   \n",
       "DC          S Iyer         R Pant        2.0             12          40   \n",
       "RCB    Virat Kohli  AB de villers        NaN             12          40   \n",
       "\n",
       "          Type    Age  \n",
       "Team                   \n",
       "SRH        IPL  20-25  \n",
       "KKR        ODI  30-35  \n",
       "RR    Domestic  25-30  \n",
       "CSK        ODI  35-40  \n",
       "KXP        ODI  25-30  \n",
       "MI         IPL  30-35  \n",
       "DC    Domestic  20-25  \n",
       "RCB        IPL  30-35  "
      ],
      "text/html": "<div>\n<style scoped>\n    .dataframe tbody tr th:only-of-type {\n        vertical-align: middle;\n    }\n\n    .dataframe tbody tr th {\n        vertical-align: top;\n    }\n\n    .dataframe thead th {\n        text-align: right;\n    }\n</style>\n<table border=\"1\" class=\"dataframe\">\n  <thead>\n    <tr style=\"text-align: right;\">\n      <th></th>\n      <th>Captain</th>\n      <th>Vice_Captain</th>\n      <th>Won_times</th>\n      <th>Total_Seasons</th>\n      <th>Squad_team</th>\n      <th>Type</th>\n      <th>Age</th>\n    </tr>\n    <tr>\n      <th>Team</th>\n      <th></th>\n      <th></th>\n      <th></th>\n      <th></th>\n      <th></th>\n      <th></th>\n      <th></th>\n    </tr>\n  </thead>\n  <tbody>\n    <tr>\n      <th>SRH</th>\n      <td>Dwarner</td>\n      <td>M Pandey</td>\n      <td>1.0</td>\n      <td>7</td>\n      <td>39</td>\n      <td>IPL</td>\n      <td>20-25</td>\n    </tr>\n    <tr>\n      <th>KKR</th>\n      <td>D Kartik</td>\n      <td>A Russel</td>\n      <td>2.0</td>\n      <td>8</td>\n      <td>38</td>\n      <td>ODI</td>\n      <td>30-35</td>\n    </tr>\n    <tr>\n      <th>RR</th>\n      <td>S Smith</td>\n      <td>A Rahane</td>\n      <td>1.0</td>\n      <td>8</td>\n      <td>39</td>\n      <td>Domestic</td>\n      <td>25-30</td>\n    </tr>\n    <tr>\n      <th>CSK</th>\n      <td>MS Dhoni</td>\n      <td>A Jadeja</td>\n      <td>3.0</td>\n      <td>10</td>\n      <td>41</td>\n      <td>ODI</td>\n      <td>35-40</td>\n    </tr>\n    <tr>\n      <th>KXP</th>\n      <td>KL Rahul</td>\n      <td>M Agarwal</td>\n      <td>NaN</td>\n      <td>11</td>\n      <td>42</td>\n      <td>ODI</td>\n      <td>25-30</td>\n    </tr>\n    <tr>\n      <th>MI</th>\n      <td>Rohit Sharma</td>\n      <td>K Pollard</td>\n      <td>5.0</td>\n      <td>12</td>\n      <td>38</td>\n      <td>IPL</td>\n      <td>30-35</td>\n    </tr>\n    <tr>\n      <th>DC</th>\n      <td>S Iyer</td>\n      <td>R Pant</td>\n      <td>2.0</td>\n      <td>12</td>\n      <td>40</td>\n      <td>Domestic</td>\n      <td>20-25</td>\n    </tr>\n    <tr>\n      <th>RCB</th>\n      <td>Virat Kohli</td>\n      <td>AB de villers</td>\n      <td>NaN</td>\n      <td>12</td>\n      <td>40</td>\n      <td>IPL</td>\n      <td>30-35</td>\n    </tr>\n  </tbody>\n</table>\n</div>"
     },
     "metadata": {},
     "execution_count": 20
    }
   ],
   "source": [
    "# We can also perform sorting using >1 columns: It will sort using second column , then for the result it applies sorting based on first column given. (REVERSE order)\n",
    "df.sort_values(by=['Total_Seasons', 'Squad_team'], ascending=True, inplace=True)\n",
    "df"
   ]
  },
  {
   "cell_type": "code",
   "execution_count": 8,
   "metadata": {},
   "outputs": [
    {
     "output_type": "execute_result",
     "data": {
      "text/plain": [
       "Rohit Sharma    1\n",
       "S Smith         1\n",
       "MS Dhoni        1\n",
       "Dwarner         1\n",
       "Virat Kohli     1\n",
       "S Iyer          1\n",
       "D Kartik        1\n",
       "KL Rahul        1\n",
       "Name: Captain, dtype: int64"
      ]
     },
     "metadata": {},
     "execution_count": 8
    }
   ],
   "source": [
    "# This value_counts() can be used as mode()- to get most frequent value in a dataframe series.\n",
    "# for rest of aggregate functions, we have mean(), median(), min(),max(),sum(), etc. \n",
    "# But, all this can be summarised once using one command- describe()\n",
    "import pandas as pd\n",
    "df = pd.read_csv(\"sample_book.csv\")\n",
    "df[\"Captain\"].value_counts(dropna=False)"
   ]
  },
  {
   "source": [
    "Indexing and Selecting data:"
   ],
   "cell_type": "markdown",
   "metadata": {}
  },
  {
   "source": [
    "1) Selecting rows from a dataframe\n",
    "2) Selecting columns from a dataframe\n",
    "3) Selecting columns from a dataframe"
   ],
   "cell_type": "markdown",
   "metadata": {}
  },
  {
   "cell_type": "code",
   "execution_count": 9,
   "metadata": {},
   "outputs": [
    {
     "output_type": "execute_result",
     "data": {
      "text/plain": [
       "  Team   Captain Vice_Captain  Won_times  Total_Seasons  Squad_team Type  \\\n",
       "2  CSK  MS Dhoni     A Jadeja        3.0             10          41  ODI   \n",
       "3  KXP  KL Rahul    M Agarwal        NaN             11          42  ODI   \n",
       "4  KKR  D Kartik     A Russel        2.0              8          38  ODI   \n",
       "5  SRH   Dwarner     M Pandey        1.0              7          39  IPL   \n",
       "\n",
       "     Age  \n",
       "2  35-40  \n",
       "3  25-30  \n",
       "4  30-35  \n",
       "5  20-25  "
      ],
      "text/html": "<div>\n<style scoped>\n    .dataframe tbody tr th:only-of-type {\n        vertical-align: middle;\n    }\n\n    .dataframe tbody tr th {\n        vertical-align: top;\n    }\n\n    .dataframe thead th {\n        text-align: right;\n    }\n</style>\n<table border=\"1\" class=\"dataframe\">\n  <thead>\n    <tr style=\"text-align: right;\">\n      <th></th>\n      <th>Team</th>\n      <th>Captain</th>\n      <th>Vice_Captain</th>\n      <th>Won_times</th>\n      <th>Total_Seasons</th>\n      <th>Squad_team</th>\n      <th>Type</th>\n      <th>Age</th>\n    </tr>\n  </thead>\n  <tbody>\n    <tr>\n      <th>2</th>\n      <td>CSK</td>\n      <td>MS Dhoni</td>\n      <td>A Jadeja</td>\n      <td>3.0</td>\n      <td>10</td>\n      <td>41</td>\n      <td>ODI</td>\n      <td>35-40</td>\n    </tr>\n    <tr>\n      <th>3</th>\n      <td>KXP</td>\n      <td>KL Rahul</td>\n      <td>M Agarwal</td>\n      <td>NaN</td>\n      <td>11</td>\n      <td>42</td>\n      <td>ODI</td>\n      <td>25-30</td>\n    </tr>\n    <tr>\n      <th>4</th>\n      <td>KKR</td>\n      <td>D Kartik</td>\n      <td>A Russel</td>\n      <td>2.0</td>\n      <td>8</td>\n      <td>38</td>\n      <td>ODI</td>\n      <td>30-35</td>\n    </tr>\n    <tr>\n      <th>5</th>\n      <td>SRH</td>\n      <td>Dwarner</td>\n      <td>M Pandey</td>\n      <td>1.0</td>\n      <td>7</td>\n      <td>39</td>\n      <td>IPL</td>\n      <td>20-25</td>\n    </tr>\n  </tbody>\n</table>\n</div>"
     },
     "metadata": {},
     "execution_count": 9
    }
   ],
   "source": [
    "# 1) Selecting rows:\n",
    "df[2:6] "
   ]
  },
  {
   "cell_type": "code",
   "execution_count": 23,
   "metadata": {},
   "outputs": [
    {
     "output_type": "execute_result",
     "data": {
      "text/plain": [
       "  Team   Captain Vice_Captain  Won_times  Total_Seasons  Squad_team      Type  \\\n",
       "3  KXP  KL Rahul    M Agarwal        NaN             11          42       ODI   \n",
       "5  SRH   Dwarner     M Pandey        1.0              7          39       IPL   \n",
       "7   RR   S Smith     A Rahane        1.0              8          39  Domestic   \n",
       "\n",
       "     Age  \n",
       "3  25-30  \n",
       "5  20-25  \n",
       "7  25-30  "
      ],
      "text/html": "<div>\n<style scoped>\n    .dataframe tbody tr th:only-of-type {\n        vertical-align: middle;\n    }\n\n    .dataframe tbody tr th {\n        vertical-align: top;\n    }\n\n    .dataframe thead th {\n        text-align: right;\n    }\n</style>\n<table border=\"1\" class=\"dataframe\">\n  <thead>\n    <tr style=\"text-align: right;\">\n      <th></th>\n      <th>Team</th>\n      <th>Captain</th>\n      <th>Vice_Captain</th>\n      <th>Won_times</th>\n      <th>Total_Seasons</th>\n      <th>Squad_team</th>\n      <th>Type</th>\n      <th>Age</th>\n    </tr>\n  </thead>\n  <tbody>\n    <tr>\n      <th>3</th>\n      <td>KXP</td>\n      <td>KL Rahul</td>\n      <td>M Agarwal</td>\n      <td>NaN</td>\n      <td>11</td>\n      <td>42</td>\n      <td>ODI</td>\n      <td>25-30</td>\n    </tr>\n    <tr>\n      <th>5</th>\n      <td>SRH</td>\n      <td>Dwarner</td>\n      <td>M Pandey</td>\n      <td>1.0</td>\n      <td>7</td>\n      <td>39</td>\n      <td>IPL</td>\n      <td>20-25</td>\n    </tr>\n    <tr>\n      <th>7</th>\n      <td>RR</td>\n      <td>S Smith</td>\n      <td>A Rahane</td>\n      <td>1.0</td>\n      <td>8</td>\n      <td>39</td>\n      <td>Domestic</td>\n      <td>25-30</td>\n    </tr>\n  </tbody>\n</table>\n</div>"
     },
     "metadata": {},
     "execution_count": 23
    }
   ],
   "source": [
    "# Selecting alternate rows (from 3rd row to till last but in alternate fashion)\n",
    "df[3::2]"
   ]
  },
  {
   "source": [
    "# 2) Selecting Columns: Each Column is a pandas series. 2 ways: a) using [] 2) using .NOTE: We can extract both as Series and Dataframe\n",
    "# a) using [] : as Series.\n",
    "df['Captain']\n"
   ],
   "cell_type": "code",
   "metadata": {},
   "execution_count": 12,
   "outputs": [
    {
     "output_type": "execute_result",
     "data": {
      "text/plain": [
       "0     Virat Kohli\n",
       "1    Rohit Sharma\n",
       "2        MS Dhoni\n",
       "3        KL Rahul\n",
       "4        D Kartik\n",
       "5         Dwarner\n",
       "6          S Iyer\n",
       "7         S Smith\n",
       "Name: Captain, dtype: object"
      ]
     },
     "metadata": {},
     "execution_count": 12
    }
   ]
  },
  {
   "cell_type": "code",
   "execution_count": 13,
   "metadata": {},
   "outputs": [
    {
     "output_type": "execute_result",
     "data": {
      "text/plain": [
       "pandas.core.series.Series"
      ]
     },
     "metadata": {},
     "execution_count": 13
    }
   ],
   "source": [
    "type(df['Captain'])"
   ]
  },
  {
   "cell_type": "code",
   "execution_count": 14,
   "metadata": {},
   "outputs": [
    {
     "output_type": "execute_result",
     "data": {
      "text/plain": [
       "0     Virat Kohli\n",
       "1    Rohit Sharma\n",
       "2        MS Dhoni\n",
       "3        KL Rahul\n",
       "4        D Kartik\n",
       "5         Dwarner\n",
       "6          S Iyer\n",
       "7         S Smith\n",
       "Name: Captain, dtype: object"
      ]
     },
     "metadata": {},
     "execution_count": 14
    }
   ],
   "source": [
    "# b) using . : as Series\n",
    "df.Captain\n"
   ]
  },
  {
   "cell_type": "code",
   "execution_count": 15,
   "metadata": {},
   "outputs": [
    {
     "output_type": "execute_result",
     "data": {
      "text/plain": [
       "pandas.core.series.Series"
      ]
     },
     "metadata": {},
     "execution_count": 15
    }
   ],
   "source": [
    "type(df.Captain)"
   ]
  },
  {
   "cell_type": "code",
   "execution_count": 16,
   "metadata": {},
   "outputs": [
    {
     "output_type": "execute_result",
     "data": {
      "text/plain": [
       "        Captain\n",
       "0   Virat Kohli\n",
       "1  Rohit Sharma\n",
       "2      MS Dhoni\n",
       "3      KL Rahul\n",
       "4      D Kartik\n",
       "5       Dwarner\n",
       "6        S Iyer\n",
       "7       S Smith"
      ],
      "text/html": "<div>\n<style scoped>\n    .dataframe tbody tr th:only-of-type {\n        vertical-align: middle;\n    }\n\n    .dataframe tbody tr th {\n        vertical-align: top;\n    }\n\n    .dataframe thead th {\n        text-align: right;\n    }\n</style>\n<table border=\"1\" class=\"dataframe\">\n  <thead>\n    <tr style=\"text-align: right;\">\n      <th></th>\n      <th>Captain</th>\n    </tr>\n  </thead>\n  <tbody>\n    <tr>\n      <th>0</th>\n      <td>Virat Kohli</td>\n    </tr>\n    <tr>\n      <th>1</th>\n      <td>Rohit Sharma</td>\n    </tr>\n    <tr>\n      <th>2</th>\n      <td>MS Dhoni</td>\n    </tr>\n    <tr>\n      <th>3</th>\n      <td>KL Rahul</td>\n    </tr>\n    <tr>\n      <th>4</th>\n      <td>D Kartik</td>\n    </tr>\n    <tr>\n      <th>5</th>\n      <td>Dwarner</td>\n    </tr>\n    <tr>\n      <th>6</th>\n      <td>S Iyer</td>\n    </tr>\n    <tr>\n      <th>7</th>\n      <td>S Smith</td>\n    </tr>\n  </tbody>\n</table>\n</div>"
     },
     "metadata": {},
     "execution_count": 16
    }
   ],
   "source": [
    "# as Dataframe : Just embed in []\n",
    "df[[\"Captain\"]]"
   ]
  },
  {
   "cell_type": "code",
   "execution_count": 17,
   "metadata": {},
   "outputs": [
    {
     "output_type": "execute_result",
     "data": {
      "text/plain": [
       "pandas.core.frame.DataFrame"
      ]
     },
     "metadata": {},
     "execution_count": 17
    }
   ],
   "source": [
    "type(df[[\"Captain\"]])"
   ]
  },
  {
   "cell_type": "code",
   "execution_count": 18,
   "metadata": {},
   "outputs": [
    {
     "output_type": "execute_result",
     "data": {
      "text/plain": [
       "        Captain  Total_Seasons\n",
       "0   Virat Kohli             12\n",
       "1  Rohit Sharma             12\n",
       "2      MS Dhoni             10\n",
       "3      KL Rahul             11\n",
       "4      D Kartik              8\n",
       "5       Dwarner              7\n",
       "6        S Iyer             12\n",
       "7       S Smith              8"
      ],
      "text/html": "<div>\n<style scoped>\n    .dataframe tbody tr th:only-of-type {\n        vertical-align: middle;\n    }\n\n    .dataframe tbody tr th {\n        vertical-align: top;\n    }\n\n    .dataframe thead th {\n        text-align: right;\n    }\n</style>\n<table border=\"1\" class=\"dataframe\">\n  <thead>\n    <tr style=\"text-align: right;\">\n      <th></th>\n      <th>Captain</th>\n      <th>Total_Seasons</th>\n    </tr>\n  </thead>\n  <tbody>\n    <tr>\n      <th>0</th>\n      <td>Virat Kohli</td>\n      <td>12</td>\n    </tr>\n    <tr>\n      <th>1</th>\n      <td>Rohit Sharma</td>\n      <td>12</td>\n    </tr>\n    <tr>\n      <th>2</th>\n      <td>MS Dhoni</td>\n      <td>10</td>\n    </tr>\n    <tr>\n      <th>3</th>\n      <td>KL Rahul</td>\n      <td>11</td>\n    </tr>\n    <tr>\n      <th>4</th>\n      <td>D Kartik</td>\n      <td>8</td>\n    </tr>\n    <tr>\n      <th>5</th>\n      <td>Dwarner</td>\n      <td>7</td>\n    </tr>\n    <tr>\n      <th>6</th>\n      <td>S Iyer</td>\n      <td>12</td>\n    </tr>\n    <tr>\n      <th>7</th>\n      <td>S Smith</td>\n      <td>8</td>\n    </tr>\n  </tbody>\n</table>\n</div>"
     },
     "metadata": {},
     "execution_count": 18
    }
   ],
   "source": [
    "# Selecting multiple columns : returns always a Dataframe\n",
    "# NOTE: dont specify Index in list, since it appears by default for every row\n",
    "df[['Captain', 'Total_Seasons']]"
   ]
  },
  {
   "cell_type": "code",
   "execution_count": 19,
   "metadata": {},
   "outputs": [
    {
     "output_type": "execute_result",
     "data": {
      "text/plain": [
       "pandas.core.frame.DataFrame"
      ]
     },
     "metadata": {},
     "execution_count": 19
    }
   ],
   "source": [
    "type(df[['Captain', 'Total_Seasons']])"
   ]
  },
  {
   "cell_type": "code",
   "execution_count": 20,
   "metadata": {},
   "outputs": [],
   "source": [
    "# Unlike Series(1D array), We cannot access a Dataframe by Just One parameter like Dataframe[2]. "
   ]
  },
  {
   "cell_type": "code",
   "execution_count": 21,
   "metadata": {},
   "outputs": [
    {
     "output_type": "execute_result",
     "data": {
      "text/plain": [
       "  Team       Captain   Vice_Captain  Won_times  Total_Seasons  Squad_team  \\\n",
       "0  RCB   Virat Kohli  AB de villers        NaN             12          40   \n",
       "1   MI  Rohit Sharma      K Pollard        5.0             12          38   \n",
       "2  CSK      MS Dhoni       A Jadeja        3.0             10          41   \n",
       "3  KXP      KL Rahul      M Agarwal        NaN             11          42   \n",
       "4  KKR      D Kartik       A Russel        2.0              8          38   \n",
       "5  SRH       Dwarner       M Pandey        1.0              7          39   \n",
       "6   DC        S Iyer         R Pant        2.0             12          40   \n",
       "7   RR       S Smith       A Rahane        1.0              8          39   \n",
       "\n",
       "       Type    Age  \n",
       "0       IPL  30-35  \n",
       "1       IPL  30-35  \n",
       "2       ODI  35-40  \n",
       "3       ODI  25-30  \n",
       "4       ODI  30-35  \n",
       "5       IPL  20-25  \n",
       "6  Domestic  20-25  \n",
       "7  Domestic  25-30  "
      ],
      "text/html": "<div>\n<style scoped>\n    .dataframe tbody tr th:only-of-type {\n        vertical-align: middle;\n    }\n\n    .dataframe tbody tr th {\n        vertical-align: top;\n    }\n\n    .dataframe thead th {\n        text-align: right;\n    }\n</style>\n<table border=\"1\" class=\"dataframe\">\n  <thead>\n    <tr style=\"text-align: right;\">\n      <th></th>\n      <th>Team</th>\n      <th>Captain</th>\n      <th>Vice_Captain</th>\n      <th>Won_times</th>\n      <th>Total_Seasons</th>\n      <th>Squad_team</th>\n      <th>Type</th>\n      <th>Age</th>\n    </tr>\n  </thead>\n  <tbody>\n    <tr>\n      <th>0</th>\n      <td>RCB</td>\n      <td>Virat Kohli</td>\n      <td>AB de villers</td>\n      <td>NaN</td>\n      <td>12</td>\n      <td>40</td>\n      <td>IPL</td>\n      <td>30-35</td>\n    </tr>\n    <tr>\n      <th>1</th>\n      <td>MI</td>\n      <td>Rohit Sharma</td>\n      <td>K Pollard</td>\n      <td>5.0</td>\n      <td>12</td>\n      <td>38</td>\n      <td>IPL</td>\n      <td>30-35</td>\n    </tr>\n    <tr>\n      <th>2</th>\n      <td>CSK</td>\n      <td>MS Dhoni</td>\n      <td>A Jadeja</td>\n      <td>3.0</td>\n      <td>10</td>\n      <td>41</td>\n      <td>ODI</td>\n      <td>35-40</td>\n    </tr>\n    <tr>\n      <th>3</th>\n      <td>KXP</td>\n      <td>KL Rahul</td>\n      <td>M Agarwal</td>\n      <td>NaN</td>\n      <td>11</td>\n      <td>42</td>\n      <td>ODI</td>\n      <td>25-30</td>\n    </tr>\n    <tr>\n      <th>4</th>\n      <td>KKR</td>\n      <td>D Kartik</td>\n      <td>A Russel</td>\n      <td>2.0</td>\n      <td>8</td>\n      <td>38</td>\n      <td>ODI</td>\n      <td>30-35</td>\n    </tr>\n    <tr>\n      <th>5</th>\n      <td>SRH</td>\n      <td>Dwarner</td>\n      <td>M Pandey</td>\n      <td>1.0</td>\n      <td>7</td>\n      <td>39</td>\n      <td>IPL</td>\n      <td>20-25</td>\n    </tr>\n    <tr>\n      <th>6</th>\n      <td>DC</td>\n      <td>S Iyer</td>\n      <td>R Pant</td>\n      <td>2.0</td>\n      <td>12</td>\n      <td>40</td>\n      <td>Domestic</td>\n      <td>20-25</td>\n    </tr>\n    <tr>\n      <th>7</th>\n      <td>RR</td>\n      <td>S Smith</td>\n      <td>A Rahane</td>\n      <td>1.0</td>\n      <td>8</td>\n      <td>39</td>\n      <td>Domestic</td>\n      <td>25-30</td>\n    </tr>\n  </tbody>\n</table>\n</div>"
     },
     "metadata": {},
     "execution_count": 21
    }
   ],
   "source": [
    "df"
   ]
  },
  {
   "cell_type": "code",
   "execution_count": 22,
   "metadata": {},
   "outputs": [
    {
     "output_type": "execute_result",
     "data": {
      "text/plain": [
       "  Team   Captain Vice_Captain  Won_times  Total_Seasons  Squad_team      Type  \\\n",
       "2  CSK  MS Dhoni     A Jadeja        3.0             10          41       ODI   \n",
       "4  KKR  D Kartik     A Russel        2.0              8          38       ODI   \n",
       "6   DC    S Iyer       R Pant        2.0             12          40  Domestic   \n",
       "\n",
       "     Age  \n",
       "2  35-40  \n",
       "4  30-35  \n",
       "6  20-25  "
      ],
      "text/html": "<div>\n<style scoped>\n    .dataframe tbody tr th:only-of-type {\n        vertical-align: middle;\n    }\n\n    .dataframe tbody tr th {\n        vertical-align: top;\n    }\n\n    .dataframe thead th {\n        text-align: right;\n    }\n</style>\n<table border=\"1\" class=\"dataframe\">\n  <thead>\n    <tr style=\"text-align: right;\">\n      <th></th>\n      <th>Team</th>\n      <th>Captain</th>\n      <th>Vice_Captain</th>\n      <th>Won_times</th>\n      <th>Total_Seasons</th>\n      <th>Squad_team</th>\n      <th>Type</th>\n      <th>Age</th>\n    </tr>\n  </thead>\n  <tbody>\n    <tr>\n      <th>2</th>\n      <td>CSK</td>\n      <td>MS Dhoni</td>\n      <td>A Jadeja</td>\n      <td>3.0</td>\n      <td>10</td>\n      <td>41</td>\n      <td>ODI</td>\n      <td>35-40</td>\n    </tr>\n    <tr>\n      <th>4</th>\n      <td>KKR</td>\n      <td>D Kartik</td>\n      <td>A Russel</td>\n      <td>2.0</td>\n      <td>8</td>\n      <td>38</td>\n      <td>ODI</td>\n      <td>30-35</td>\n    </tr>\n    <tr>\n      <th>6</th>\n      <td>DC</td>\n      <td>S Iyer</td>\n      <td>R Pant</td>\n      <td>2.0</td>\n      <td>12</td>\n      <td>40</td>\n      <td>Domestic</td>\n      <td>20-25</td>\n    </tr>\n  </tbody>\n</table>\n</div>"
     },
     "metadata": {},
     "execution_count": 22
    }
   ],
   "source": [
    "# To print only even number rows in Dataframe\n",
    "df[2::2]"
   ]
  },
  {
   "source": [
    "## Pandas recommneds to use below 2 approcahes for indexing, subsetting. Since they are more explicit.\n",
    "#1) Position based Indexing: using df.iloc\n",
    "#2) Label based indexing: using df.loc"
   ],
   "cell_type": "markdown",
   "metadata": {}
  },
  {
   "source": [
    "# 1) Position based Indexing: # Use help(pd.DataFrame.iloc) for detailed info\n",
    "# df.iloc[  a , b ] \n",
    "# a = row info, can be single digit or a list. \n",
    "# b = column info, can be single digit or a list\n",
    "\n",
    "# Possible Combinations for a or b:\n",
    "# m:n\n",
    "# here, m is starting index and n-1 is ending Index "
   ],
   "cell_type": "code",
   "metadata": {},
   "execution_count": 23,
   "outputs": []
  },
  {
   "cell_type": "code",
   "execution_count": 30,
   "metadata": {},
   "outputs": [
    {
     "output_type": "execute_result",
     "data": {
      "text/plain": [
       "Team                  CSK\n",
       "Captain          MS Dhoni\n",
       "Vice_Captain     A Jadeja\n",
       "Won_times               3\n",
       "Total_Seasons          10\n",
       "Squad_team             41\n",
       "Type                  ODI\n",
       "Age                 35-40\n",
       "Name: 2, dtype: object"
      ]
     },
     "metadata": {},
     "execution_count": 30
    }
   ],
   "source": [
    "df.iloc[2] # series output, print third row, all columns"
   ]
  },
  {
   "cell_type": "code",
   "execution_count": 29,
   "metadata": {},
   "outputs": [
    {
     "output_type": "execute_result",
     "data": {
      "text/plain": [
       "  Team   Captain Vice_Captain  Won_times  Total_Seasons  Squad_team Type  \\\n",
       "2  CSK  MS Dhoni     A Jadeja        3.0             10          41  ODI   \n",
       "\n",
       "     Age  \n",
       "2  35-40  "
      ],
      "text/html": "<div>\n<style scoped>\n    .dataframe tbody tr th:only-of-type {\n        vertical-align: middle;\n    }\n\n    .dataframe tbody tr th {\n        vertical-align: top;\n    }\n\n    .dataframe thead th {\n        text-align: right;\n    }\n</style>\n<table border=\"1\" class=\"dataframe\">\n  <thead>\n    <tr style=\"text-align: right;\">\n      <th></th>\n      <th>Team</th>\n      <th>Captain</th>\n      <th>Vice_Captain</th>\n      <th>Won_times</th>\n      <th>Total_Seasons</th>\n      <th>Squad_team</th>\n      <th>Type</th>\n      <th>Age</th>\n    </tr>\n  </thead>\n  <tbody>\n    <tr>\n      <th>2</th>\n      <td>CSK</td>\n      <td>MS Dhoni</td>\n      <td>A Jadeja</td>\n      <td>3.0</td>\n      <td>10</td>\n      <td>41</td>\n      <td>ODI</td>\n      <td>35-40</td>\n    </tr>\n  </tbody>\n</table>\n</div>"
     },
     "metadata": {},
     "execution_count": 29
    }
   ],
   "source": [
    "df.iloc[[2]] # Dataframe output, print tird row, all columns"
   ]
  },
  {
   "cell_type": "code",
   "execution_count": 38,
   "metadata": {},
   "outputs": [
    {
     "output_type": "execute_result",
     "data": {
      "text/plain": [
       "    Captain Vice_Captain  Won_times\n",
       "2  MS Dhoni     A Jadeja        3.0\n",
       "3  KL Rahul    M Agarwal        NaN\n",
       "4  D Kartik     A Russel        2.0"
      ],
      "text/html": "<div>\n<style scoped>\n    .dataframe tbody tr th:only-of-type {\n        vertical-align: middle;\n    }\n\n    .dataframe tbody tr th {\n        vertical-align: top;\n    }\n\n    .dataframe thead th {\n        text-align: right;\n    }\n</style>\n<table border=\"1\" class=\"dataframe\">\n  <thead>\n    <tr style=\"text-align: right;\">\n      <th></th>\n      <th>Captain</th>\n      <th>Vice_Captain</th>\n      <th>Won_times</th>\n    </tr>\n  </thead>\n  <tbody>\n    <tr>\n      <th>2</th>\n      <td>MS Dhoni</td>\n      <td>A Jadeja</td>\n      <td>3.0</td>\n    </tr>\n    <tr>\n      <th>3</th>\n      <td>KL Rahul</td>\n      <td>M Agarwal</td>\n      <td>NaN</td>\n    </tr>\n    <tr>\n      <th>4</th>\n      <td>D Kartik</td>\n      <td>A Russel</td>\n      <td>2.0</td>\n    </tr>\n  </tbody>\n</table>\n</div>"
     },
     "metadata": {},
     "execution_count": 38
    }
   ],
   "source": [
    "df.iloc[[2,3,4],[1,2,3]] # 3,4,5th rows and 2,3,4th columns"
   ]
  },
  {
   "cell_type": "code",
   "execution_count": 39,
   "metadata": {},
   "outputs": [
    {
     "output_type": "execute_result",
     "data": {
      "text/plain": [
       "   Won_times  Total_Seasons\n",
       "2        3.0             10\n",
       "3        NaN             11\n",
       "4        2.0              8\n",
       "5        1.0              7"
      ],
      "text/html": "<div>\n<style scoped>\n    .dataframe tbody tr th:only-of-type {\n        vertical-align: middle;\n    }\n\n    .dataframe tbody tr th {\n        vertical-align: top;\n    }\n\n    .dataframe thead th {\n        text-align: right;\n    }\n</style>\n<table border=\"1\" class=\"dataframe\">\n  <thead>\n    <tr style=\"text-align: right;\">\n      <th></th>\n      <th>Won_times</th>\n      <th>Total_Seasons</th>\n    </tr>\n  </thead>\n  <tbody>\n    <tr>\n      <th>2</th>\n      <td>3.0</td>\n      <td>10</td>\n    </tr>\n    <tr>\n      <th>3</th>\n      <td>NaN</td>\n      <td>11</td>\n    </tr>\n    <tr>\n      <th>4</th>\n      <td>2.0</td>\n      <td>8</td>\n    </tr>\n    <tr>\n      <th>5</th>\n      <td>1.0</td>\n      <td>7</td>\n    </tr>\n  </tbody>\n</table>\n</div>"
     },
     "metadata": {},
     "execution_count": 39
    }
   ],
   "source": [
    "df.iloc[2:6,3:5] # 3,4,5,6th row and 4, 5th column"
   ]
  },
  {
   "cell_type": "code",
   "execution_count": 40,
   "metadata": {},
   "outputs": [
    {
     "output_type": "error",
     "ename": "SyntaxError",
     "evalue": "invalid syntax (<ipython-input-40-d9dc4857998e>, line 1)",
     "traceback": [
      "\u001b[1;36m  File \u001b[1;32m\"<ipython-input-40-d9dc4857998e>\"\u001b[1;36m, line \u001b[1;32m1\u001b[0m\n\u001b[1;33m    df.iloc[[2:4]]\u001b[0m\n\u001b[1;37m              ^\u001b[0m\n\u001b[1;31mSyntaxError\u001b[0m\u001b[1;31m:\u001b[0m invalid syntax\n"
     ]
    }
   ],
   "source": [
    "df.iloc[[2:4]]"
   ]
  },
  {
   "cell_type": "code",
   "execution_count": 96,
   "metadata": {},
   "outputs": [
    {
     "output_type": "execute_result",
     "data": {
      "text/plain": [
       "           Captain   Vice_Captain  Won_times  Total_Seasons  Squad_team\n",
       "Team                                                                   \n",
       "SRH        Dwarner       M Pandey        1.0              7          39\n",
       "KKR       D Kartik       A Russel        2.0              8          38\n",
       "CSK       MS Dhoni       A Jadeja        3.0             10          41\n",
       "MI    Rohit Sharma      K Pollard        5.0             12          38\n",
       "RCB    Virat Kohli  AB de villers        NaN             12          40"
      ],
      "text/html": "<div>\n<style scoped>\n    .dataframe tbody tr th:only-of-type {\n        vertical-align: middle;\n    }\n\n    .dataframe tbody tr th {\n        vertical-align: top;\n    }\n\n    .dataframe thead th {\n        text-align: right;\n    }\n</style>\n<table border=\"1\" class=\"dataframe\">\n  <thead>\n    <tr style=\"text-align: right;\">\n      <th></th>\n      <th>Captain</th>\n      <th>Vice_Captain</th>\n      <th>Won_times</th>\n      <th>Total_Seasons</th>\n      <th>Squad_team</th>\n    </tr>\n    <tr>\n      <th>Team</th>\n      <th></th>\n      <th></th>\n      <th></th>\n      <th></th>\n      <th></th>\n    </tr>\n  </thead>\n  <tbody>\n    <tr>\n      <th>SRH</th>\n      <td>Dwarner</td>\n      <td>M Pandey</td>\n      <td>1.0</td>\n      <td>7</td>\n      <td>39</td>\n    </tr>\n    <tr>\n      <th>KKR</th>\n      <td>D Kartik</td>\n      <td>A Russel</td>\n      <td>2.0</td>\n      <td>8</td>\n      <td>38</td>\n    </tr>\n    <tr>\n      <th>CSK</th>\n      <td>MS Dhoni</td>\n      <td>A Jadeja</td>\n      <td>3.0</td>\n      <td>10</td>\n      <td>41</td>\n    </tr>\n    <tr>\n      <th>MI</th>\n      <td>Rohit Sharma</td>\n      <td>K Pollard</td>\n      <td>5.0</td>\n      <td>12</td>\n      <td>38</td>\n    </tr>\n    <tr>\n      <th>RCB</th>\n      <td>Virat Kohli</td>\n      <td>AB de villers</td>\n      <td>NaN</td>\n      <td>12</td>\n      <td>40</td>\n    </tr>\n  </tbody>\n</table>\n</div>"
     },
     "metadata": {},
     "execution_count": 96
    }
   ],
   "source": [
    "# Using boolena array: selects only rows corresponding to true.\n",
    "df.iloc[[True, True,False, True, False, True, False,True]]"
   ]
  },
  {
   "cell_type": "code",
   "execution_count": 97,
   "metadata": {},
   "outputs": [
    {
     "output_type": "execute_result",
     "data": {
      "text/plain": [
       "           Captain   Vice_Captain  Won_times  Total_Seasons  Squad_team\n",
       "Team                                                                   \n",
       "SRH        Dwarner       M Pandey        1.0              7          39\n",
       "KKR       D Kartik       A Russel        2.0              8          38\n",
       "RR         S Smith       A Rahane        1.0              8          39\n",
       "CSK       MS Dhoni       A Jadeja        3.0             10          41\n",
       "KXP       KL Rahul      M Agarwal        NaN             11          42\n",
       "MI    Rohit Sharma      K Pollard        5.0             12          38\n",
       "DC          S Iyer         R Pant        2.0             12          40\n",
       "RCB    Virat Kohli  AB de villers        NaN             12          40"
      ],
      "text/html": "<div>\n<style scoped>\n    .dataframe tbody tr th:only-of-type {\n        vertical-align: middle;\n    }\n\n    .dataframe tbody tr th {\n        vertical-align: top;\n    }\n\n    .dataframe thead th {\n        text-align: right;\n    }\n</style>\n<table border=\"1\" class=\"dataframe\">\n  <thead>\n    <tr style=\"text-align: right;\">\n      <th></th>\n      <th>Captain</th>\n      <th>Vice_Captain</th>\n      <th>Won_times</th>\n      <th>Total_Seasons</th>\n      <th>Squad_team</th>\n    </tr>\n    <tr>\n      <th>Team</th>\n      <th></th>\n      <th></th>\n      <th></th>\n      <th></th>\n      <th></th>\n    </tr>\n  </thead>\n  <tbody>\n    <tr>\n      <th>SRH</th>\n      <td>Dwarner</td>\n      <td>M Pandey</td>\n      <td>1.0</td>\n      <td>7</td>\n      <td>39</td>\n    </tr>\n    <tr>\n      <th>KKR</th>\n      <td>D Kartik</td>\n      <td>A Russel</td>\n      <td>2.0</td>\n      <td>8</td>\n      <td>38</td>\n    </tr>\n    <tr>\n      <th>RR</th>\n      <td>S Smith</td>\n      <td>A Rahane</td>\n      <td>1.0</td>\n      <td>8</td>\n      <td>39</td>\n    </tr>\n    <tr>\n      <th>CSK</th>\n      <td>MS Dhoni</td>\n      <td>A Jadeja</td>\n      <td>3.0</td>\n      <td>10</td>\n      <td>41</td>\n    </tr>\n    <tr>\n      <th>KXP</th>\n      <td>KL Rahul</td>\n      <td>M Agarwal</td>\n      <td>NaN</td>\n      <td>11</td>\n      <td>42</td>\n    </tr>\n    <tr>\n      <th>MI</th>\n      <td>Rohit Sharma</td>\n      <td>K Pollard</td>\n      <td>5.0</td>\n      <td>12</td>\n      <td>38</td>\n    </tr>\n    <tr>\n      <th>DC</th>\n      <td>S Iyer</td>\n      <td>R Pant</td>\n      <td>2.0</td>\n      <td>12</td>\n      <td>40</td>\n    </tr>\n    <tr>\n      <th>RCB</th>\n      <td>Virat Kohli</td>\n      <td>AB de villers</td>\n      <td>NaN</td>\n      <td>12</td>\n      <td>40</td>\n    </tr>\n  </tbody>\n</table>\n</div>"
     },
     "metadata": {},
     "execution_count": 97
    }
   ],
   "source": [
    "# 1) Selecting based on Labels: using df.loc\n",
    "# WKT it is possible to have our own custom index.\n",
    "\n",
    "df"
   ]
  },
  {
   "cell_type": "code",
   "execution_count": 103,
   "metadata": {},
   "outputs": [
    {
     "output_type": "execute_result",
     "data": {
      "text/plain": [
       "           Captain Vice_Captain  Won_times  Total_Seasons  Squad_team\n",
       "Team                                                                 \n",
       "SRH        Dwarner     M Pandey        1.0              7          39\n",
       "KXP       KL Rahul    M Agarwal        NaN             11          42\n",
       "MI    Rohit Sharma    K Pollard        5.0             12          38"
      ],
      "text/html": "<div>\n<style scoped>\n    .dataframe tbody tr th:only-of-type {\n        vertical-align: middle;\n    }\n\n    .dataframe tbody tr th {\n        vertical-align: top;\n    }\n\n    .dataframe thead th {\n        text-align: right;\n    }\n</style>\n<table border=\"1\" class=\"dataframe\">\n  <thead>\n    <tr style=\"text-align: right;\">\n      <th></th>\n      <th>Captain</th>\n      <th>Vice_Captain</th>\n      <th>Won_times</th>\n      <th>Total_Seasons</th>\n      <th>Squad_team</th>\n    </tr>\n    <tr>\n      <th>Team</th>\n      <th></th>\n      <th></th>\n      <th></th>\n      <th></th>\n      <th></th>\n    </tr>\n  </thead>\n  <tbody>\n    <tr>\n      <th>SRH</th>\n      <td>Dwarner</td>\n      <td>M Pandey</td>\n      <td>1.0</td>\n      <td>7</td>\n      <td>39</td>\n    </tr>\n    <tr>\n      <th>KXP</th>\n      <td>KL Rahul</td>\n      <td>M Agarwal</td>\n      <td>NaN</td>\n      <td>11</td>\n      <td>42</td>\n    </tr>\n    <tr>\n      <th>MI</th>\n      <td>Rohit Sharma</td>\n      <td>K Pollard</td>\n      <td>5.0</td>\n      <td>12</td>\n      <td>38</td>\n    </tr>\n  </tbody>\n</table>\n</div>"
     },
     "metadata": {},
     "execution_count": 103
    }
   ],
   "source": [
    "df.loc[['SRH', 'KXP', 'MI'], :]"
   ]
  },
  {
   "cell_type": "code",
   "execution_count": 106,
   "metadata": {},
   "outputs": [
    {
     "output_type": "execute_result",
     "data": {
      "text/plain": [
       "     Vice_Captain  Won_times  Total_Seasons  Squad_team\n",
       "Team                                                   \n",
       "SRH      M Pandey        1.0              7          39\n",
       "KXP     M Agarwal        NaN             11          42\n",
       "MI      K Pollard        5.0             12          38"
      ],
      "text/html": "<div>\n<style scoped>\n    .dataframe tbody tr th:only-of-type {\n        vertical-align: middle;\n    }\n\n    .dataframe tbody tr th {\n        vertical-align: top;\n    }\n\n    .dataframe thead th {\n        text-align: right;\n    }\n</style>\n<table border=\"1\" class=\"dataframe\">\n  <thead>\n    <tr style=\"text-align: right;\">\n      <th></th>\n      <th>Vice_Captain</th>\n      <th>Won_times</th>\n      <th>Total_Seasons</th>\n      <th>Squad_team</th>\n    </tr>\n    <tr>\n      <th>Team</th>\n      <th></th>\n      <th></th>\n      <th></th>\n      <th></th>\n    </tr>\n  </thead>\n  <tbody>\n    <tr>\n      <th>SRH</th>\n      <td>M Pandey</td>\n      <td>1.0</td>\n      <td>7</td>\n      <td>39</td>\n    </tr>\n    <tr>\n      <th>KXP</th>\n      <td>M Agarwal</td>\n      <td>NaN</td>\n      <td>11</td>\n      <td>42</td>\n    </tr>\n    <tr>\n      <th>MI</th>\n      <td>K Pollard</td>\n      <td>5.0</td>\n      <td>12</td>\n      <td>38</td>\n    </tr>\n  </tbody>\n</table>\n</div>"
     },
     "metadata": {},
     "execution_count": 106
    }
   ],
   "source": [
    "df.loc[['SRH', 'KXP', 'MI'], 'Vice_Captain':'Squad_team']"
   ]
  },
  {
   "source": [
    "Subsetting Dataframes based on Conditions:"
   ],
   "cell_type": "markdown",
   "metadata": {}
  },
  {
   "cell_type": "code",
   "execution_count": 107,
   "metadata": {},
   "outputs": [
    {
     "output_type": "execute_result",
     "data": {
      "text/plain": [
       "           Captain   Vice_Captain  Won_times  Total_Seasons  Squad_team\n",
       "Team                                                                   \n",
       "SRH        Dwarner       M Pandey        1.0              7          39\n",
       "KKR       D Kartik       A Russel        2.0              8          38\n",
       "RR         S Smith       A Rahane        1.0              8          39\n",
       "CSK       MS Dhoni       A Jadeja        3.0             10          41\n",
       "KXP       KL Rahul      M Agarwal        NaN             11          42\n",
       "MI    Rohit Sharma      K Pollard        5.0             12          38\n",
       "DC          S Iyer         R Pant        2.0             12          40\n",
       "RCB    Virat Kohli  AB de villers        NaN             12          40"
      ],
      "text/html": "<div>\n<style scoped>\n    .dataframe tbody tr th:only-of-type {\n        vertical-align: middle;\n    }\n\n    .dataframe tbody tr th {\n        vertical-align: top;\n    }\n\n    .dataframe thead th {\n        text-align: right;\n    }\n</style>\n<table border=\"1\" class=\"dataframe\">\n  <thead>\n    <tr style=\"text-align: right;\">\n      <th></th>\n      <th>Captain</th>\n      <th>Vice_Captain</th>\n      <th>Won_times</th>\n      <th>Total_Seasons</th>\n      <th>Squad_team</th>\n    </tr>\n    <tr>\n      <th>Team</th>\n      <th></th>\n      <th></th>\n      <th></th>\n      <th></th>\n      <th></th>\n    </tr>\n  </thead>\n  <tbody>\n    <tr>\n      <th>SRH</th>\n      <td>Dwarner</td>\n      <td>M Pandey</td>\n      <td>1.0</td>\n      <td>7</td>\n      <td>39</td>\n    </tr>\n    <tr>\n      <th>KKR</th>\n      <td>D Kartik</td>\n      <td>A Russel</td>\n      <td>2.0</td>\n      <td>8</td>\n      <td>38</td>\n    </tr>\n    <tr>\n      <th>RR</th>\n      <td>S Smith</td>\n      <td>A Rahane</td>\n      <td>1.0</td>\n      <td>8</td>\n      <td>39</td>\n    </tr>\n    <tr>\n      <th>CSK</th>\n      <td>MS Dhoni</td>\n      <td>A Jadeja</td>\n      <td>3.0</td>\n      <td>10</td>\n      <td>41</td>\n    </tr>\n    <tr>\n      <th>KXP</th>\n      <td>KL Rahul</td>\n      <td>M Agarwal</td>\n      <td>NaN</td>\n      <td>11</td>\n      <td>42</td>\n    </tr>\n    <tr>\n      <th>MI</th>\n      <td>Rohit Sharma</td>\n      <td>K Pollard</td>\n      <td>5.0</td>\n      <td>12</td>\n      <td>38</td>\n    </tr>\n    <tr>\n      <th>DC</th>\n      <td>S Iyer</td>\n      <td>R Pant</td>\n      <td>2.0</td>\n      <td>12</td>\n      <td>40</td>\n    </tr>\n    <tr>\n      <th>RCB</th>\n      <td>Virat Kohli</td>\n      <td>AB de villers</td>\n      <td>NaN</td>\n      <td>12</td>\n      <td>40</td>\n    </tr>\n  </tbody>\n</table>\n</div>"
     },
     "metadata": {},
     "execution_count": 107
    }
   ],
   "source": [
    "df"
   ]
  },
  {
   "cell_type": "code",
   "execution_count": 112,
   "metadata": {},
   "outputs": [
    {
     "output_type": "execute_result",
     "data": {
      "text/plain": [
       "           Captain Vice_Captain  Won_times  Total_Seasons  Squad_team\n",
       "Team                                                                 \n",
       "CSK       MS Dhoni     A Jadeja        3.0             10          41\n",
       "MI    Rohit Sharma    K Pollard        5.0             12          38"
      ],
      "text/html": "<div>\n<style scoped>\n    .dataframe tbody tr th:only-of-type {\n        vertical-align: middle;\n    }\n\n    .dataframe tbody tr th {\n        vertical-align: top;\n    }\n\n    .dataframe thead th {\n        text-align: right;\n    }\n</style>\n<table border=\"1\" class=\"dataframe\">\n  <thead>\n    <tr style=\"text-align: right;\">\n      <th></th>\n      <th>Captain</th>\n      <th>Vice_Captain</th>\n      <th>Won_times</th>\n      <th>Total_Seasons</th>\n      <th>Squad_team</th>\n    </tr>\n    <tr>\n      <th>Team</th>\n      <th></th>\n      <th></th>\n      <th></th>\n      <th></th>\n      <th></th>\n    </tr>\n  </thead>\n  <tbody>\n    <tr>\n      <th>CSK</th>\n      <td>MS Dhoni</td>\n      <td>A Jadeja</td>\n      <td>3.0</td>\n      <td>10</td>\n      <td>41</td>\n    </tr>\n    <tr>\n      <th>MI</th>\n      <td>Rohit Sharma</td>\n      <td>K Pollard</td>\n      <td>5.0</td>\n      <td>12</td>\n      <td>38</td>\n    </tr>\n  </tbody>\n</table>\n</div>"
     },
     "metadata": {},
     "execution_count": 112
    }
   ],
   "source": [
    "# using a boolean array: df['Won_times']>2.0\n",
    "df.loc[df['Won_times']>2.0]"
   ]
  },
  {
   "cell_type": "code",
   "execution_count": 113,
   "metadata": {},
   "outputs": [
    {
     "output_type": "execute_result",
     "data": {
      "text/plain": [
       "           Captain Vice_Captain  Won_times  Total_Seasons  Squad_team\n",
       "Team                                                                 \n",
       "CSK       MS Dhoni     A Jadeja        3.0             10          41\n",
       "MI    Rohit Sharma    K Pollard        5.0             12          38"
      ],
      "text/html": "<div>\n<style scoped>\n    .dataframe tbody tr th:only-of-type {\n        vertical-align: middle;\n    }\n\n    .dataframe tbody tr th {\n        vertical-align: top;\n    }\n\n    .dataframe thead th {\n        text-align: right;\n    }\n</style>\n<table border=\"1\" class=\"dataframe\">\n  <thead>\n    <tr style=\"text-align: right;\">\n      <th></th>\n      <th>Captain</th>\n      <th>Vice_Captain</th>\n      <th>Won_times</th>\n      <th>Total_Seasons</th>\n      <th>Squad_team</th>\n    </tr>\n    <tr>\n      <th>Team</th>\n      <th></th>\n      <th></th>\n      <th></th>\n      <th></th>\n      <th></th>\n    </tr>\n  </thead>\n  <tbody>\n    <tr>\n      <th>CSK</th>\n      <td>MS Dhoni</td>\n      <td>A Jadeja</td>\n      <td>3.0</td>\n      <td>10</td>\n      <td>41</td>\n    </tr>\n    <tr>\n      <th>MI</th>\n      <td>Rohit Sharma</td>\n      <td>K Pollard</td>\n      <td>5.0</td>\n      <td>12</td>\n      <td>38</td>\n    </tr>\n  </tbody>\n</table>\n</div>"
     },
     "metadata": {},
     "execution_count": 113
    }
   ],
   "source": [
    "# Equivalent to above one\n",
    "df.loc[df['Won_times']>2.0, ]"
   ]
  },
  {
   "cell_type": "code",
   "execution_count": 114,
   "metadata": {},
   "outputs": [
    {
     "output_type": "execute_result",
     "data": {
      "text/plain": [
       "           Captain   Vice_Captain  Won_times  Total_Seasons  Squad_team\n",
       "Team                                                                   \n",
       "SRH        Dwarner       M Pandey        1.0              7          39\n",
       "KKR       D Kartik       A Russel        2.0              8          38\n",
       "RR         S Smith       A Rahane        1.0              8          39\n",
       "CSK       MS Dhoni       A Jadeja        3.0             10          41\n",
       "KXP       KL Rahul      M Agarwal        NaN             11          42\n",
       "MI    Rohit Sharma      K Pollard        5.0             12          38\n",
       "DC          S Iyer         R Pant        2.0             12          40\n",
       "RCB    Virat Kohli  AB de villers        NaN             12          40"
      ],
      "text/html": "<div>\n<style scoped>\n    .dataframe tbody tr th:only-of-type {\n        vertical-align: middle;\n    }\n\n    .dataframe tbody tr th {\n        vertical-align: top;\n    }\n\n    .dataframe thead th {\n        text-align: right;\n    }\n</style>\n<table border=\"1\" class=\"dataframe\">\n  <thead>\n    <tr style=\"text-align: right;\">\n      <th></th>\n      <th>Captain</th>\n      <th>Vice_Captain</th>\n      <th>Won_times</th>\n      <th>Total_Seasons</th>\n      <th>Squad_team</th>\n    </tr>\n    <tr>\n      <th>Team</th>\n      <th></th>\n      <th></th>\n      <th></th>\n      <th></th>\n      <th></th>\n    </tr>\n  </thead>\n  <tbody>\n    <tr>\n      <th>SRH</th>\n      <td>Dwarner</td>\n      <td>M Pandey</td>\n      <td>1.0</td>\n      <td>7</td>\n      <td>39</td>\n    </tr>\n    <tr>\n      <th>KKR</th>\n      <td>D Kartik</td>\n      <td>A Russel</td>\n      <td>2.0</td>\n      <td>8</td>\n      <td>38</td>\n    </tr>\n    <tr>\n      <th>RR</th>\n      <td>S Smith</td>\n      <td>A Rahane</td>\n      <td>1.0</td>\n      <td>8</td>\n      <td>39</td>\n    </tr>\n    <tr>\n      <th>CSK</th>\n      <td>MS Dhoni</td>\n      <td>A Jadeja</td>\n      <td>3.0</td>\n      <td>10</td>\n      <td>41</td>\n    </tr>\n    <tr>\n      <th>KXP</th>\n      <td>KL Rahul</td>\n      <td>M Agarwal</td>\n      <td>NaN</td>\n      <td>11</td>\n      <td>42</td>\n    </tr>\n    <tr>\n      <th>MI</th>\n      <td>Rohit Sharma</td>\n      <td>K Pollard</td>\n      <td>5.0</td>\n      <td>12</td>\n      <td>38</td>\n    </tr>\n    <tr>\n      <th>DC</th>\n      <td>S Iyer</td>\n      <td>R Pant</td>\n      <td>2.0</td>\n      <td>12</td>\n      <td>40</td>\n    </tr>\n    <tr>\n      <th>RCB</th>\n      <td>Virat Kohli</td>\n      <td>AB de villers</td>\n      <td>NaN</td>\n      <td>12</td>\n      <td>40</td>\n    </tr>\n  </tbody>\n</table>\n</div>"
     },
     "metadata": {},
     "execution_count": 114
    }
   ],
   "source": [
    "df"
   ]
  },
  {
   "cell_type": "code",
   "execution_count": 116,
   "metadata": {},
   "outputs": [
    {
     "output_type": "execute_result",
     "data": {
      "text/plain": [
       "       Captain Vice_Captain  Won_times  Total_Seasons  Squad_team\n",
       "Team                                                             \n",
       "CSK   MS Dhoni     A Jadeja        3.0             10          41\n",
       "KXP   KL Rahul    M Agarwal        NaN             11          42"
      ],
      "text/html": "<div>\n<style scoped>\n    .dataframe tbody tr th:only-of-type {\n        vertical-align: middle;\n    }\n\n    .dataframe tbody tr th {\n        vertical-align: top;\n    }\n\n    .dataframe thead th {\n        text-align: right;\n    }\n</style>\n<table border=\"1\" class=\"dataframe\">\n  <thead>\n    <tr style=\"text-align: right;\">\n      <th></th>\n      <th>Captain</th>\n      <th>Vice_Captain</th>\n      <th>Won_times</th>\n      <th>Total_Seasons</th>\n      <th>Squad_team</th>\n    </tr>\n    <tr>\n      <th>Team</th>\n      <th></th>\n      <th></th>\n      <th></th>\n      <th></th>\n      <th></th>\n    </tr>\n  </thead>\n  <tbody>\n    <tr>\n      <th>CSK</th>\n      <td>MS Dhoni</td>\n      <td>A Jadeja</td>\n      <td>3.0</td>\n      <td>10</td>\n      <td>41</td>\n    </tr>\n    <tr>\n      <th>KXP</th>\n      <td>KL Rahul</td>\n      <td>M Agarwal</td>\n      <td>NaN</td>\n      <td>11</td>\n      <td>42</td>\n    </tr>\n  </tbody>\n</table>\n</div>"
     },
     "metadata": {},
     "execution_count": 116
    }
   ],
   "source": [
    "df.loc[(df.Total_Seasons>8) & (df.Squad_team>40)]"
   ]
  },
  {
   "cell_type": "code",
   "execution_count": 118,
   "metadata": {},
   "outputs": [
    {
     "output_type": "execute_result",
     "data": {
      "text/plain": [
       "           Captain   Vice_Captain  Won_times  Total_Seasons  Squad_team\n",
       "Team                                                                   \n",
       "CSK       MS Dhoni       A Jadeja        3.0             10          41\n",
       "KXP       KL Rahul      M Agarwal        NaN             11          42\n",
       "MI    Rohit Sharma      K Pollard        5.0             12          38\n",
       "DC          S Iyer         R Pant        2.0             12          40\n",
       "RCB    Virat Kohli  AB de villers        NaN             12          40"
      ],
      "text/html": "<div>\n<style scoped>\n    .dataframe tbody tr th:only-of-type {\n        vertical-align: middle;\n    }\n\n    .dataframe tbody tr th {\n        vertical-align: top;\n    }\n\n    .dataframe thead th {\n        text-align: right;\n    }\n</style>\n<table border=\"1\" class=\"dataframe\">\n  <thead>\n    <tr style=\"text-align: right;\">\n      <th></th>\n      <th>Captain</th>\n      <th>Vice_Captain</th>\n      <th>Won_times</th>\n      <th>Total_Seasons</th>\n      <th>Squad_team</th>\n    </tr>\n    <tr>\n      <th>Team</th>\n      <th></th>\n      <th></th>\n      <th></th>\n      <th></th>\n      <th></th>\n    </tr>\n  </thead>\n  <tbody>\n    <tr>\n      <th>CSK</th>\n      <td>MS Dhoni</td>\n      <td>A Jadeja</td>\n      <td>3.0</td>\n      <td>10</td>\n      <td>41</td>\n    </tr>\n    <tr>\n      <th>KXP</th>\n      <td>KL Rahul</td>\n      <td>M Agarwal</td>\n      <td>NaN</td>\n      <td>11</td>\n      <td>42</td>\n    </tr>\n    <tr>\n      <th>MI</th>\n      <td>Rohit Sharma</td>\n      <td>K Pollard</td>\n      <td>5.0</td>\n      <td>12</td>\n      <td>38</td>\n    </tr>\n    <tr>\n      <th>DC</th>\n      <td>S Iyer</td>\n      <td>R Pant</td>\n      <td>2.0</td>\n      <td>12</td>\n      <td>40</td>\n    </tr>\n    <tr>\n      <th>RCB</th>\n      <td>Virat Kohli</td>\n      <td>AB de villers</td>\n      <td>NaN</td>\n      <td>12</td>\n      <td>40</td>\n    </tr>\n  </tbody>\n</table>\n</div>"
     },
     "metadata": {},
     "execution_count": 118
    }
   ],
   "source": [
    "df.loc[(df.Total_Seasons>8) | (df.Squad_team>40)]"
   ]
  },
  {
   "cell_type": "code",
   "execution_count": 125,
   "metadata": {},
   "outputs": [
    {
     "output_type": "execute_result",
     "data": {
      "text/plain": [
       "       Captain Vice_Captain  Won_times  Total_Seasons  Squad_team\n",
       "Team                                                             \n",
       "CSK   MS Dhoni     A Jadeja        3.0             10          41\n",
       "DC      S Iyer       R Pant        2.0             12          40"
      ],
      "text/html": "<div>\n<style scoped>\n    .dataframe tbody tr th:only-of-type {\n        vertical-align: middle;\n    }\n\n    .dataframe tbody tr th {\n        vertical-align: top;\n    }\n\n    .dataframe thead th {\n        text-align: right;\n    }\n</style>\n<table border=\"1\" class=\"dataframe\">\n  <thead>\n    <tr style=\"text-align: right;\">\n      <th></th>\n      <th>Captain</th>\n      <th>Vice_Captain</th>\n      <th>Won_times</th>\n      <th>Total_Seasons</th>\n      <th>Squad_team</th>\n    </tr>\n    <tr>\n      <th>Team</th>\n      <th></th>\n      <th></th>\n      <th></th>\n      <th></th>\n      <th></th>\n    </tr>\n  </thead>\n  <tbody>\n    <tr>\n      <th>CSK</th>\n      <td>MS Dhoni</td>\n      <td>A Jadeja</td>\n      <td>3.0</td>\n      <td>10</td>\n      <td>41</td>\n    </tr>\n    <tr>\n      <th>DC</th>\n      <td>S Iyer</td>\n      <td>R Pant</td>\n      <td>2.0</td>\n      <td>12</td>\n      <td>40</td>\n    </tr>\n  </tbody>\n</table>\n</div>"
     },
     "metadata": {},
     "execution_count": 125
    }
   ],
   "source": [
    "# We can filter column to have selected rows. NOTE: Items in List should be part of Column under filter.\n",
    "valid_rows = ['A Jadeja', 'R Pant']\n",
    "df.loc[df.Vice_Captain.isin(valid_rows)]"
   ]
  },
  {
   "source": [
    "## Merge and Append(Concat):"
   ],
   "cell_type": "markdown",
   "metadata": {}
  },
  {
   "source": [
    "##1) Merging two or more dataframes using pd.merge()"
   ],
   "cell_type": "markdown",
   "metadata": {}
  },
  {
   "cell_type": "code",
   "execution_count": 18,
   "metadata": {},
   "outputs": [
    {
     "output_type": "execute_result",
     "data": {
      "text/plain": [
       "      Captain  ODI_RUNS  Catches\n",
       "0  R Pointing     14000      700\n",
       "1   S Ganguly     12000      710\n",
       "2    R Dravid     11000      800"
      ],
      "text/html": "<div>\n<style scoped>\n    .dataframe tbody tr th:only-of-type {\n        vertical-align: middle;\n    }\n\n    .dataframe tbody tr th {\n        vertical-align: top;\n    }\n\n    .dataframe thead th {\n        text-align: right;\n    }\n</style>\n<table border=\"1\" class=\"dataframe\">\n  <thead>\n    <tr style=\"text-align: right;\">\n      <th></th>\n      <th>Captain</th>\n      <th>ODI_RUNS</th>\n      <th>Catches</th>\n    </tr>\n  </thead>\n  <tbody>\n    <tr>\n      <th>0</th>\n      <td>R Pointing</td>\n      <td>14000</td>\n      <td>700</td>\n    </tr>\n    <tr>\n      <th>1</th>\n      <td>S Ganguly</td>\n      <td>12000</td>\n      <td>710</td>\n    </tr>\n    <tr>\n      <th>2</th>\n      <td>R Dravid</td>\n      <td>11000</td>\n      <td>800</td>\n    </tr>\n  </tbody>\n</table>\n</div>"
     },
     "metadata": {},
     "execution_count": 18
    }
   ],
   "source": [
    "df_1 = df\n",
    "df_2 = pd.read_csv(\"sample_workbook_2.csv\")\n",
    "df_2"
   ]
  },
  {
   "cell_type": "code",
   "execution_count": 20,
   "metadata": {},
   "outputs": [
    {
     "output_type": "execute_result",
     "data": {
      "text/plain": [
       "Empty DataFrame\n",
       "Columns: [Team, Captain, Vice_Captain, Won_times, Total_Seasons, Squad_team, Type, ODI_RUNS, Catches]\n",
       "Index: []"
      ],
      "text/html": "<div>\n<style scoped>\n    .dataframe tbody tr th:only-of-type {\n        vertical-align: middle;\n    }\n\n    .dataframe tbody tr th {\n        vertical-align: top;\n    }\n\n    .dataframe thead th {\n        text-align: right;\n    }\n</style>\n<table border=\"1\" class=\"dataframe\">\n  <thead>\n    <tr style=\"text-align: right;\">\n      <th></th>\n      <th>Team</th>\n      <th>Captain</th>\n      <th>Vice_Captain</th>\n      <th>Won_times</th>\n      <th>Total_Seasons</th>\n      <th>Squad_team</th>\n      <th>Type</th>\n      <th>ODI_RUNS</th>\n      <th>Catches</th>\n    </tr>\n  </thead>\n  <tbody>\n  </tbody>\n</table>\n</div>"
     },
     "metadata": {},
     "execution_count": 20
    }
   ],
   "source": [
    "# how = \"inner\" makes merge using same column in both dataframes so we will have all columns in both dataframes but only one common column\n",
    "pd.merge(df_1, df_2, how=\"inner\", on=\"Captain\")"
   ]
  },
  {
   "source": [
    "Concatinate: using pd.concat()"
   ],
   "cell_type": "markdown",
   "metadata": {}
  },
  {
   "source": [
    "# 2 ways :\n",
    "# 1) Concatenate along rows : use axis = 0 (default) [NOTE: no. of columns and thier labels should be same]\n",
    "# 2) Concatenate along column: use axis = 1 [ NOTE: no. of rows should be same]"
   ],
   "cell_type": "code",
   "metadata": {},
   "execution_count": null,
   "outputs": []
  },
  {
   "cell_type": "code",
   "execution_count": 133,
   "metadata": {},
   "outputs": [
    {
     "output_type": "execute_result",
     "data": {
      "text/plain": [
       "      Captain  ODI_RUNS  Catches\n",
       "0  R Pointing     14000      700\n",
       "1   S Ganguly     12000      710\n",
       "2    R Dravid     11000      800"
      ],
      "text/html": "<div>\n<style scoped>\n    .dataframe tbody tr th:only-of-type {\n        vertical-align: middle;\n    }\n\n    .dataframe tbody tr th {\n        vertical-align: top;\n    }\n\n    .dataframe thead th {\n        text-align: right;\n    }\n</style>\n<table border=\"1\" class=\"dataframe\">\n  <thead>\n    <tr style=\"text-align: right;\">\n      <th></th>\n      <th>Captain</th>\n      <th>ODI_RUNS</th>\n      <th>Catches</th>\n    </tr>\n  </thead>\n  <tbody>\n    <tr>\n      <th>0</th>\n      <td>R Pointing</td>\n      <td>14000</td>\n      <td>700</td>\n    </tr>\n    <tr>\n      <th>1</th>\n      <td>S Ganguly</td>\n      <td>12000</td>\n      <td>710</td>\n    </tr>\n    <tr>\n      <th>2</th>\n      <td>R Dravid</td>\n      <td>11000</td>\n      <td>800</td>\n    </tr>\n  </tbody>\n</table>\n</div>"
     },
     "metadata": {},
     "execution_count": 133
    }
   ],
   "source": [
    "df_3 = pd.read_csv(\"sample_workbook_3.csv\")\n",
    "df_3"
   ]
  },
  {
   "cell_type": "code",
   "execution_count": 136,
   "metadata": {},
   "outputs": [
    {
     "output_type": "execute_result",
     "data": {
      "text/plain": [
       "        Captain  ODI_RUNS  Catches\n",
       "0   Virat Kohli     25000      840\n",
       "1  Rohit Sharma     13000      490\n",
       "2      MS Dhoni     12000     1280\n",
       "3      KL Rahul      3000      390\n",
       "4      D Kartik      3500      320\n",
       "5       Dwarner      8000      790\n",
       "6        S Iyer      1000      321\n",
       "7       S Smith      8000      800"
      ],
      "text/html": "<div>\n<style scoped>\n    .dataframe tbody tr th:only-of-type {\n        vertical-align: middle;\n    }\n\n    .dataframe tbody tr th {\n        vertical-align: top;\n    }\n\n    .dataframe thead th {\n        text-align: right;\n    }\n</style>\n<table border=\"1\" class=\"dataframe\">\n  <thead>\n    <tr style=\"text-align: right;\">\n      <th></th>\n      <th>Captain</th>\n      <th>ODI_RUNS</th>\n      <th>Catches</th>\n    </tr>\n  </thead>\n  <tbody>\n    <tr>\n      <th>0</th>\n      <td>Virat Kohli</td>\n      <td>25000</td>\n      <td>840</td>\n    </tr>\n    <tr>\n      <th>1</th>\n      <td>Rohit Sharma</td>\n      <td>13000</td>\n      <td>490</td>\n    </tr>\n    <tr>\n      <th>2</th>\n      <td>MS Dhoni</td>\n      <td>12000</td>\n      <td>1280</td>\n    </tr>\n    <tr>\n      <th>3</th>\n      <td>KL Rahul</td>\n      <td>3000</td>\n      <td>390</td>\n    </tr>\n    <tr>\n      <th>4</th>\n      <td>D Kartik</td>\n      <td>3500</td>\n      <td>320</td>\n    </tr>\n    <tr>\n      <th>5</th>\n      <td>Dwarner</td>\n      <td>8000</td>\n      <td>790</td>\n    </tr>\n    <tr>\n      <th>6</th>\n      <td>S Iyer</td>\n      <td>1000</td>\n      <td>321</td>\n    </tr>\n    <tr>\n      <th>7</th>\n      <td>S Smith</td>\n      <td>8000</td>\n      <td>800</td>\n    </tr>\n  </tbody>\n</table>\n</div>"
     },
     "metadata": {},
     "execution_count": 136
    }
   ],
   "source": [
    "df_2"
   ]
  },
  {
   "cell_type": "code",
   "execution_count": 138,
   "metadata": {},
   "outputs": [
    {
     "output_type": "execute_result",
     "data": {
      "text/plain": [
       "        Captain  ODI_RUNS  Catches\n",
       "0   Virat Kohli     25000      840\n",
       "1  Rohit Sharma     13000      490\n",
       "2      MS Dhoni     12000     1280\n",
       "3      KL Rahul      3000      390\n",
       "4      D Kartik      3500      320\n",
       "5       Dwarner      8000      790\n",
       "6        S Iyer      1000      321\n",
       "7       S Smith      8000      800\n",
       "0    R Pointing     14000      700\n",
       "1     S Ganguly     12000      710\n",
       "2      R Dravid     11000      800"
      ],
      "text/html": "<div>\n<style scoped>\n    .dataframe tbody tr th:only-of-type {\n        vertical-align: middle;\n    }\n\n    .dataframe tbody tr th {\n        vertical-align: top;\n    }\n\n    .dataframe thead th {\n        text-align: right;\n    }\n</style>\n<table border=\"1\" class=\"dataframe\">\n  <thead>\n    <tr style=\"text-align: right;\">\n      <th></th>\n      <th>Captain</th>\n      <th>ODI_RUNS</th>\n      <th>Catches</th>\n    </tr>\n  </thead>\n  <tbody>\n    <tr>\n      <th>0</th>\n      <td>Virat Kohli</td>\n      <td>25000</td>\n      <td>840</td>\n    </tr>\n    <tr>\n      <th>1</th>\n      <td>Rohit Sharma</td>\n      <td>13000</td>\n      <td>490</td>\n    </tr>\n    <tr>\n      <th>2</th>\n      <td>MS Dhoni</td>\n      <td>12000</td>\n      <td>1280</td>\n    </tr>\n    <tr>\n      <th>3</th>\n      <td>KL Rahul</td>\n      <td>3000</td>\n      <td>390</td>\n    </tr>\n    <tr>\n      <th>4</th>\n      <td>D Kartik</td>\n      <td>3500</td>\n      <td>320</td>\n    </tr>\n    <tr>\n      <th>5</th>\n      <td>Dwarner</td>\n      <td>8000</td>\n      <td>790</td>\n    </tr>\n    <tr>\n      <th>6</th>\n      <td>S Iyer</td>\n      <td>1000</td>\n      <td>321</td>\n    </tr>\n    <tr>\n      <th>7</th>\n      <td>S Smith</td>\n      <td>8000</td>\n      <td>800</td>\n    </tr>\n    <tr>\n      <th>0</th>\n      <td>R Pointing</td>\n      <td>14000</td>\n      <td>700</td>\n    </tr>\n    <tr>\n      <th>1</th>\n      <td>S Ganguly</td>\n      <td>12000</td>\n      <td>710</td>\n    </tr>\n    <tr>\n      <th>2</th>\n      <td>R Dravid</td>\n      <td>11000</td>\n      <td>800</td>\n    </tr>\n  </tbody>\n</table>\n</div>"
     },
     "metadata": {},
     "execution_count": 138
    }
   ],
   "source": [
    "# Lets Concatennate df_2 and df_3 along rows(axis = 0)\n",
    "pd.concat([df_2, df_3], axis=0)"
   ]
  },
  {
   "cell_type": "code",
   "execution_count": 139,
   "metadata": {},
   "outputs": [
    {
     "output_type": "execute_result",
     "data": {
      "text/plain": [
       "        Captain  ODI_RUNS  Catches     Captain  ODI_RUNS  Catches\n",
       "0   Virat Kohli     25000      840  R Pointing   14000.0    700.0\n",
       "1  Rohit Sharma     13000      490   S Ganguly   12000.0    710.0\n",
       "2      MS Dhoni     12000     1280    R Dravid   11000.0    800.0\n",
       "3      KL Rahul      3000      390         NaN       NaN      NaN\n",
       "4      D Kartik      3500      320         NaN       NaN      NaN\n",
       "5       Dwarner      8000      790         NaN       NaN      NaN\n",
       "6        S Iyer      1000      321         NaN       NaN      NaN\n",
       "7       S Smith      8000      800         NaN       NaN      NaN"
      ],
      "text/html": "<div>\n<style scoped>\n    .dataframe tbody tr th:only-of-type {\n        vertical-align: middle;\n    }\n\n    .dataframe tbody tr th {\n        vertical-align: top;\n    }\n\n    .dataframe thead th {\n        text-align: right;\n    }\n</style>\n<table border=\"1\" class=\"dataframe\">\n  <thead>\n    <tr style=\"text-align: right;\">\n      <th></th>\n      <th>Captain</th>\n      <th>ODI_RUNS</th>\n      <th>Catches</th>\n      <th>Captain</th>\n      <th>ODI_RUNS</th>\n      <th>Catches</th>\n    </tr>\n  </thead>\n  <tbody>\n    <tr>\n      <th>0</th>\n      <td>Virat Kohli</td>\n      <td>25000</td>\n      <td>840</td>\n      <td>R Pointing</td>\n      <td>14000.0</td>\n      <td>700.0</td>\n    </tr>\n    <tr>\n      <th>1</th>\n      <td>Rohit Sharma</td>\n      <td>13000</td>\n      <td>490</td>\n      <td>S Ganguly</td>\n      <td>12000.0</td>\n      <td>710.0</td>\n    </tr>\n    <tr>\n      <th>2</th>\n      <td>MS Dhoni</td>\n      <td>12000</td>\n      <td>1280</td>\n      <td>R Dravid</td>\n      <td>11000.0</td>\n      <td>800.0</td>\n    </tr>\n    <tr>\n      <th>3</th>\n      <td>KL Rahul</td>\n      <td>3000</td>\n      <td>390</td>\n      <td>NaN</td>\n      <td>NaN</td>\n      <td>NaN</td>\n    </tr>\n    <tr>\n      <th>4</th>\n      <td>D Kartik</td>\n      <td>3500</td>\n      <td>320</td>\n      <td>NaN</td>\n      <td>NaN</td>\n      <td>NaN</td>\n    </tr>\n    <tr>\n      <th>5</th>\n      <td>Dwarner</td>\n      <td>8000</td>\n      <td>790</td>\n      <td>NaN</td>\n      <td>NaN</td>\n      <td>NaN</td>\n    </tr>\n    <tr>\n      <th>6</th>\n      <td>S Iyer</td>\n      <td>1000</td>\n      <td>321</td>\n      <td>NaN</td>\n      <td>NaN</td>\n      <td>NaN</td>\n    </tr>\n    <tr>\n      <th>7</th>\n      <td>S Smith</td>\n      <td>8000</td>\n      <td>800</td>\n      <td>NaN</td>\n      <td>NaN</td>\n      <td>NaN</td>\n    </tr>\n  </tbody>\n</table>\n</div>"
     },
     "metadata": {},
     "execution_count": 139
    }
   ],
   "source": [
    "# Lets Concatenate along columns (axis = 1)\n",
    "pd.concat([df_2, df_3], axis =1)"
   ]
  },
  {
   "cell_type": "code",
   "execution_count": 140,
   "metadata": {},
   "outputs": [
    {
     "output_type": "execute_result",
     "data": {
      "text/plain": [
       "           Captain   Vice_Captain  Won_times  Total_Seasons  Squad_team\n",
       "Team                                                                   \n",
       "SRH        Dwarner       M Pandey        1.0              7          39\n",
       "KKR       D Kartik       A Russel        2.0              8          38\n",
       "RR         S Smith       A Rahane        1.0              8          39\n",
       "CSK       MS Dhoni       A Jadeja        3.0             10          41\n",
       "KXP       KL Rahul      M Agarwal        NaN             11          42\n",
       "MI    Rohit Sharma      K Pollard        5.0             12          38\n",
       "DC          S Iyer         R Pant        2.0             12          40\n",
       "RCB    Virat Kohli  AB de villers        NaN             12          40"
      ],
      "text/html": "<div>\n<style scoped>\n    .dataframe tbody tr th:only-of-type {\n        vertical-align: middle;\n    }\n\n    .dataframe tbody tr th {\n        vertical-align: top;\n    }\n\n    .dataframe thead th {\n        text-align: right;\n    }\n</style>\n<table border=\"1\" class=\"dataframe\">\n  <thead>\n    <tr style=\"text-align: right;\">\n      <th></th>\n      <th>Captain</th>\n      <th>Vice_Captain</th>\n      <th>Won_times</th>\n      <th>Total_Seasons</th>\n      <th>Squad_team</th>\n    </tr>\n    <tr>\n      <th>Team</th>\n      <th></th>\n      <th></th>\n      <th></th>\n      <th></th>\n      <th></th>\n    </tr>\n  </thead>\n  <tbody>\n    <tr>\n      <th>SRH</th>\n      <td>Dwarner</td>\n      <td>M Pandey</td>\n      <td>1.0</td>\n      <td>7</td>\n      <td>39</td>\n    </tr>\n    <tr>\n      <th>KKR</th>\n      <td>D Kartik</td>\n      <td>A Russel</td>\n      <td>2.0</td>\n      <td>8</td>\n      <td>38</td>\n    </tr>\n    <tr>\n      <th>RR</th>\n      <td>S Smith</td>\n      <td>A Rahane</td>\n      <td>1.0</td>\n      <td>8</td>\n      <td>39</td>\n    </tr>\n    <tr>\n      <th>CSK</th>\n      <td>MS Dhoni</td>\n      <td>A Jadeja</td>\n      <td>3.0</td>\n      <td>10</td>\n      <td>41</td>\n    </tr>\n    <tr>\n      <th>KXP</th>\n      <td>KL Rahul</td>\n      <td>M Agarwal</td>\n      <td>NaN</td>\n      <td>11</td>\n      <td>42</td>\n    </tr>\n    <tr>\n      <th>MI</th>\n      <td>Rohit Sharma</td>\n      <td>K Pollard</td>\n      <td>5.0</td>\n      <td>12</td>\n      <td>38</td>\n    </tr>\n    <tr>\n      <th>DC</th>\n      <td>S Iyer</td>\n      <td>R Pant</td>\n      <td>2.0</td>\n      <td>12</td>\n      <td>40</td>\n    </tr>\n    <tr>\n      <th>RCB</th>\n      <td>Virat Kohli</td>\n      <td>AB de villers</td>\n      <td>NaN</td>\n      <td>12</td>\n      <td>40</td>\n    </tr>\n  </tbody>\n</table>\n</div>"
     },
     "metadata": {},
     "execution_count": 140
    }
   ],
   "source": [
    "# NOTE: We can also do Concatenation using append() of Dataframe. (Till now we used pandas method)\n",
    "df_1"
   ]
  },
  {
   "cell_type": "code",
   "execution_count": 141,
   "metadata": {},
   "outputs": [
    {
     "output_type": "execute_result",
     "data": {
      "text/plain": [
       "        Captain  ODI_RUNS  Catches\n",
       "0   Virat Kohli     25000      840\n",
       "1  Rohit Sharma     13000      490\n",
       "2      MS Dhoni     12000     1280\n",
       "3      KL Rahul      3000      390\n",
       "4      D Kartik      3500      320\n",
       "5       Dwarner      8000      790\n",
       "6        S Iyer      1000      321\n",
       "7       S Smith      8000      800"
      ],
      "text/html": "<div>\n<style scoped>\n    .dataframe tbody tr th:only-of-type {\n        vertical-align: middle;\n    }\n\n    .dataframe tbody tr th {\n        vertical-align: top;\n    }\n\n    .dataframe thead th {\n        text-align: right;\n    }\n</style>\n<table border=\"1\" class=\"dataframe\">\n  <thead>\n    <tr style=\"text-align: right;\">\n      <th></th>\n      <th>Captain</th>\n      <th>ODI_RUNS</th>\n      <th>Catches</th>\n    </tr>\n  </thead>\n  <tbody>\n    <tr>\n      <th>0</th>\n      <td>Virat Kohli</td>\n      <td>25000</td>\n      <td>840</td>\n    </tr>\n    <tr>\n      <th>1</th>\n      <td>Rohit Sharma</td>\n      <td>13000</td>\n      <td>490</td>\n    </tr>\n    <tr>\n      <th>2</th>\n      <td>MS Dhoni</td>\n      <td>12000</td>\n      <td>1280</td>\n    </tr>\n    <tr>\n      <th>3</th>\n      <td>KL Rahul</td>\n      <td>3000</td>\n      <td>390</td>\n    </tr>\n    <tr>\n      <th>4</th>\n      <td>D Kartik</td>\n      <td>3500</td>\n      <td>320</td>\n    </tr>\n    <tr>\n      <th>5</th>\n      <td>Dwarner</td>\n      <td>8000</td>\n      <td>790</td>\n    </tr>\n    <tr>\n      <th>6</th>\n      <td>S Iyer</td>\n      <td>1000</td>\n      <td>321</td>\n    </tr>\n    <tr>\n      <th>7</th>\n      <td>S Smith</td>\n      <td>8000</td>\n      <td>800</td>\n    </tr>\n  </tbody>\n</table>\n</div>"
     },
     "metadata": {},
     "execution_count": 141
    }
   ],
   "source": [
    "df_2"
   ]
  },
  {
   "cell_type": "code",
   "execution_count": 142,
   "metadata": {},
   "outputs": [
    {
     "output_type": "execute_result",
     "data": {
      "text/plain": [
       "          Captain   Vice_Captain  Won_times  Total_Seasons  Squad_team  \\\n",
       "SRH       Dwarner       M Pandey        1.0            7.0        39.0   \n",
       "KKR      D Kartik       A Russel        2.0            8.0        38.0   \n",
       "RR        S Smith       A Rahane        1.0            8.0        39.0   \n",
       "CSK      MS Dhoni       A Jadeja        3.0           10.0        41.0   \n",
       "KXP      KL Rahul      M Agarwal        NaN           11.0        42.0   \n",
       "MI   Rohit Sharma      K Pollard        5.0           12.0        38.0   \n",
       "DC         S Iyer         R Pant        2.0           12.0        40.0   \n",
       "RCB   Virat Kohli  AB de villers        NaN           12.0        40.0   \n",
       "0     Virat Kohli            NaN        NaN            NaN         NaN   \n",
       "1    Rohit Sharma            NaN        NaN            NaN         NaN   \n",
       "2        MS Dhoni            NaN        NaN            NaN         NaN   \n",
       "3        KL Rahul            NaN        NaN            NaN         NaN   \n",
       "4        D Kartik            NaN        NaN            NaN         NaN   \n",
       "5         Dwarner            NaN        NaN            NaN         NaN   \n",
       "6          S Iyer            NaN        NaN            NaN         NaN   \n",
       "7         S Smith            NaN        NaN            NaN         NaN   \n",
       "\n",
       "     ODI_RUNS  Catches  \n",
       "SRH       NaN      NaN  \n",
       "KKR       NaN      NaN  \n",
       "RR        NaN      NaN  \n",
       "CSK       NaN      NaN  \n",
       "KXP       NaN      NaN  \n",
       "MI        NaN      NaN  \n",
       "DC        NaN      NaN  \n",
       "RCB       NaN      NaN  \n",
       "0     25000.0    840.0  \n",
       "1     13000.0    490.0  \n",
       "2     12000.0   1280.0  \n",
       "3      3000.0    390.0  \n",
       "4      3500.0    320.0  \n",
       "5      8000.0    790.0  \n",
       "6      1000.0    321.0  \n",
       "7      8000.0    800.0  "
      ],
      "text/html": "<div>\n<style scoped>\n    .dataframe tbody tr th:only-of-type {\n        vertical-align: middle;\n    }\n\n    .dataframe tbody tr th {\n        vertical-align: top;\n    }\n\n    .dataframe thead th {\n        text-align: right;\n    }\n</style>\n<table border=\"1\" class=\"dataframe\">\n  <thead>\n    <tr style=\"text-align: right;\">\n      <th></th>\n      <th>Captain</th>\n      <th>Vice_Captain</th>\n      <th>Won_times</th>\n      <th>Total_Seasons</th>\n      <th>Squad_team</th>\n      <th>ODI_RUNS</th>\n      <th>Catches</th>\n    </tr>\n  </thead>\n  <tbody>\n    <tr>\n      <th>SRH</th>\n      <td>Dwarner</td>\n      <td>M Pandey</td>\n      <td>1.0</td>\n      <td>7.0</td>\n      <td>39.0</td>\n      <td>NaN</td>\n      <td>NaN</td>\n    </tr>\n    <tr>\n      <th>KKR</th>\n      <td>D Kartik</td>\n      <td>A Russel</td>\n      <td>2.0</td>\n      <td>8.0</td>\n      <td>38.0</td>\n      <td>NaN</td>\n      <td>NaN</td>\n    </tr>\n    <tr>\n      <th>RR</th>\n      <td>S Smith</td>\n      <td>A Rahane</td>\n      <td>1.0</td>\n      <td>8.0</td>\n      <td>39.0</td>\n      <td>NaN</td>\n      <td>NaN</td>\n    </tr>\n    <tr>\n      <th>CSK</th>\n      <td>MS Dhoni</td>\n      <td>A Jadeja</td>\n      <td>3.0</td>\n      <td>10.0</td>\n      <td>41.0</td>\n      <td>NaN</td>\n      <td>NaN</td>\n    </tr>\n    <tr>\n      <th>KXP</th>\n      <td>KL Rahul</td>\n      <td>M Agarwal</td>\n      <td>NaN</td>\n      <td>11.0</td>\n      <td>42.0</td>\n      <td>NaN</td>\n      <td>NaN</td>\n    </tr>\n    <tr>\n      <th>MI</th>\n      <td>Rohit Sharma</td>\n      <td>K Pollard</td>\n      <td>5.0</td>\n      <td>12.0</td>\n      <td>38.0</td>\n      <td>NaN</td>\n      <td>NaN</td>\n    </tr>\n    <tr>\n      <th>DC</th>\n      <td>S Iyer</td>\n      <td>R Pant</td>\n      <td>2.0</td>\n      <td>12.0</td>\n      <td>40.0</td>\n      <td>NaN</td>\n      <td>NaN</td>\n    </tr>\n    <tr>\n      <th>RCB</th>\n      <td>Virat Kohli</td>\n      <td>AB de villers</td>\n      <td>NaN</td>\n      <td>12.0</td>\n      <td>40.0</td>\n      <td>NaN</td>\n      <td>NaN</td>\n    </tr>\n    <tr>\n      <th>0</th>\n      <td>Virat Kohli</td>\n      <td>NaN</td>\n      <td>NaN</td>\n      <td>NaN</td>\n      <td>NaN</td>\n      <td>25000.0</td>\n      <td>840.0</td>\n    </tr>\n    <tr>\n      <th>1</th>\n      <td>Rohit Sharma</td>\n      <td>NaN</td>\n      <td>NaN</td>\n      <td>NaN</td>\n      <td>NaN</td>\n      <td>13000.0</td>\n      <td>490.0</td>\n    </tr>\n    <tr>\n      <th>2</th>\n      <td>MS Dhoni</td>\n      <td>NaN</td>\n      <td>NaN</td>\n      <td>NaN</td>\n      <td>NaN</td>\n      <td>12000.0</td>\n      <td>1280.0</td>\n    </tr>\n    <tr>\n      <th>3</th>\n      <td>KL Rahul</td>\n      <td>NaN</td>\n      <td>NaN</td>\n      <td>NaN</td>\n      <td>NaN</td>\n      <td>3000.0</td>\n      <td>390.0</td>\n    </tr>\n    <tr>\n      <th>4</th>\n      <td>D Kartik</td>\n      <td>NaN</td>\n      <td>NaN</td>\n      <td>NaN</td>\n      <td>NaN</td>\n      <td>3500.0</td>\n      <td>320.0</td>\n    </tr>\n    <tr>\n      <th>5</th>\n      <td>Dwarner</td>\n      <td>NaN</td>\n      <td>NaN</td>\n      <td>NaN</td>\n      <td>NaN</td>\n      <td>8000.0</td>\n      <td>790.0</td>\n    </tr>\n    <tr>\n      <th>6</th>\n      <td>S Iyer</td>\n      <td>NaN</td>\n      <td>NaN</td>\n      <td>NaN</td>\n      <td>NaN</td>\n      <td>1000.0</td>\n      <td>321.0</td>\n    </tr>\n    <tr>\n      <th>7</th>\n      <td>S Smith</td>\n      <td>NaN</td>\n      <td>NaN</td>\n      <td>NaN</td>\n      <td>NaN</td>\n      <td>8000.0</td>\n      <td>800.0</td>\n    </tr>\n  </tbody>\n</table>\n</div>"
     },
     "metadata": {},
     "execution_count": 142
    }
   ],
   "source": [
    "df_1.append(df_2)"
   ]
  },
  {
   "source": [
    "Grouping and Summarizing Dataframes"
   ],
   "cell_type": "markdown",
   "metadata": {}
  },
  {
   "cell_type": "code",
   "execution_count": 23,
   "metadata": {},
   "outputs": [
    {
     "output_type": "execute_result",
     "data": {
      "text/plain": [
       "  Team       Captain   Vice_Captain  Won_times  Total_Seasons  Squad_team  \\\n",
       "0  RCB   Virat Kohli  AB de villers        NaN             12          40   \n",
       "1   MI  Rohit Sharma      K Pollard        5.0             12          38   \n",
       "2  CSK      MS Dhoni       A Jadeja        3.0             10          41   \n",
       "3  KXP      KL Rahul      M Agarwal        NaN             11          42   \n",
       "4  KKR      D Kartik       A Russel        2.0              8          38   \n",
       "5  SRH       Dwarner       M Pandey        1.0              7          39   \n",
       "6   DC        S Iyer         R Pant        2.0             12          40   \n",
       "7   RR       S Smith       A Rahane        1.0              8          39   \n",
       "\n",
       "       Type    Age  \n",
       "0       IPL  30-35  \n",
       "1       IPL  30-35  \n",
       "2       ODI  35-40  \n",
       "3       ODI  25-30  \n",
       "4       ODI  30-35  \n",
       "5       IPL  20-25  \n",
       "6  Domestic  20-25  \n",
       "7  Domestic  25-30  "
      ],
      "text/html": "<div>\n<style scoped>\n    .dataframe tbody tr th:only-of-type {\n        vertical-align: middle;\n    }\n\n    .dataframe tbody tr th {\n        vertical-align: top;\n    }\n\n    .dataframe thead th {\n        text-align: right;\n    }\n</style>\n<table border=\"1\" class=\"dataframe\">\n  <thead>\n    <tr style=\"text-align: right;\">\n      <th></th>\n      <th>Team</th>\n      <th>Captain</th>\n      <th>Vice_Captain</th>\n      <th>Won_times</th>\n      <th>Total_Seasons</th>\n      <th>Squad_team</th>\n      <th>Type</th>\n      <th>Age</th>\n    </tr>\n  </thead>\n  <tbody>\n    <tr>\n      <th>0</th>\n      <td>RCB</td>\n      <td>Virat Kohli</td>\n      <td>AB de villers</td>\n      <td>NaN</td>\n      <td>12</td>\n      <td>40</td>\n      <td>IPL</td>\n      <td>30-35</td>\n    </tr>\n    <tr>\n      <th>1</th>\n      <td>MI</td>\n      <td>Rohit Sharma</td>\n      <td>K Pollard</td>\n      <td>5.0</td>\n      <td>12</td>\n      <td>38</td>\n      <td>IPL</td>\n      <td>30-35</td>\n    </tr>\n    <tr>\n      <th>2</th>\n      <td>CSK</td>\n      <td>MS Dhoni</td>\n      <td>A Jadeja</td>\n      <td>3.0</td>\n      <td>10</td>\n      <td>41</td>\n      <td>ODI</td>\n      <td>35-40</td>\n    </tr>\n    <tr>\n      <th>3</th>\n      <td>KXP</td>\n      <td>KL Rahul</td>\n      <td>M Agarwal</td>\n      <td>NaN</td>\n      <td>11</td>\n      <td>42</td>\n      <td>ODI</td>\n      <td>25-30</td>\n    </tr>\n    <tr>\n      <th>4</th>\n      <td>KKR</td>\n      <td>D Kartik</td>\n      <td>A Russel</td>\n      <td>2.0</td>\n      <td>8</td>\n      <td>38</td>\n      <td>ODI</td>\n      <td>30-35</td>\n    </tr>\n    <tr>\n      <th>5</th>\n      <td>SRH</td>\n      <td>Dwarner</td>\n      <td>M Pandey</td>\n      <td>1.0</td>\n      <td>7</td>\n      <td>39</td>\n      <td>IPL</td>\n      <td>20-25</td>\n    </tr>\n    <tr>\n      <th>6</th>\n      <td>DC</td>\n      <td>S Iyer</td>\n      <td>R Pant</td>\n      <td>2.0</td>\n      <td>12</td>\n      <td>40</td>\n      <td>Domestic</td>\n      <td>20-25</td>\n    </tr>\n    <tr>\n      <th>7</th>\n      <td>RR</td>\n      <td>S Smith</td>\n      <td>A Rahane</td>\n      <td>1.0</td>\n      <td>8</td>\n      <td>39</td>\n      <td>Domestic</td>\n      <td>25-30</td>\n    </tr>\n  </tbody>\n</table>\n</div>"
     },
     "metadata": {},
     "execution_count": 23
    }
   ],
   "source": [
    "df = pd.read_csv(\"sample_book.csv\")\n",
    "df"
   ]
  },
  {
   "cell_type": "code",
   "execution_count": 24,
   "metadata": {},
   "outputs": [
    {
     "output_type": "execute_result",
     "data": {
      "text/plain": [
       "Type\n",
       "Domestic    20\n",
       "IPL         31\n",
       "ODI         29\n",
       "Name: Total_Seasons, dtype: int64"
      ]
     },
     "metadata": {},
     "execution_count": 24
    }
   ],
   "source": [
    "# first create few records with same values for some column for which we need to group\n",
    "df_gp_ob = df.groupby(\"Type\")\n",
    "df_gp_ob[\"Total_Seasons\"].sum()"
   ]
  },
  {
   "cell_type": "code",
   "execution_count": 25,
   "metadata": {},
   "outputs": [
    {
     "output_type": "execute_result",
     "data": {
      "text/plain": [
       "          Total_Seasons\n",
       "Type                   \n",
       "Domestic             20\n",
       "IPL                  31\n",
       "ODI                  29"
      ],
      "text/html": "<div>\n<style scoped>\n    .dataframe tbody tr th:only-of-type {\n        vertical-align: middle;\n    }\n\n    .dataframe tbody tr th {\n        vertical-align: top;\n    }\n\n    .dataframe thead th {\n        text-align: right;\n    }\n</style>\n<table border=\"1\" class=\"dataframe\">\n  <thead>\n    <tr style=\"text-align: right;\">\n      <th></th>\n      <th>Total_Seasons</th>\n    </tr>\n    <tr>\n      <th>Type</th>\n      <th></th>\n    </tr>\n  </thead>\n  <tbody>\n    <tr>\n      <th>Domestic</th>\n      <td>20</td>\n    </tr>\n    <tr>\n      <th>IPL</th>\n      <td>31</td>\n    </tr>\n    <tr>\n      <th>ODI</th>\n      <td>29</td>\n    </tr>\n  </tbody>\n</table>\n</div>"
     },
     "metadata": {},
     "execution_count": 25
    }
   ],
   "source": [
    "# convert to Dataframe\n",
    "pd.DataFrame(df_gp_ob[\"Total_Seasons\"].sum())"
   ]
  },
  {
   "source": [
    "Aggregation : using group by object"
   ],
   "cell_type": "markdown",
   "metadata": {}
  },
  {
   "cell_type": "code",
   "execution_count": 26,
   "metadata": {},
   "outputs": [
    {
     "output_type": "execute_result",
     "data": {
      "text/plain": [
       "Type\n",
       "Domestic    10.000000\n",
       "IPL         10.333333\n",
       "ODI          9.666667\n",
       "Name: Total_Seasons, dtype: float64"
      ]
     },
     "metadata": {},
     "execution_count": 26
    }
   ],
   "source": [
    "# Aggregation operations: Mean, Median, Min, Max, (Usally describe() will give you all of these at once even 25% 50% 75% as well)\n",
    "\n",
    "df_gp_ob[\"Total_Seasons\"].mean()"
   ]
  },
  {
   "cell_type": "code",
   "execution_count": 27,
   "metadata": {},
   "outputs": [
    {
     "output_type": "execute_result",
     "data": {
      "text/plain": [
       "Type\n",
       "Domestic    10\n",
       "IPL         12\n",
       "ODI         10\n",
       "Name: Total_Seasons, dtype: int64"
      ]
     },
     "metadata": {},
     "execution_count": 27
    }
   ],
   "source": [
    "df_gp_ob[\"Total_Seasons\"].median()"
   ]
  },
  {
   "cell_type": "code",
   "execution_count": 29,
   "metadata": {},
   "outputs": [
    {
     "output_type": "execute_result",
     "data": {
      "text/plain": [
       "Type\n",
       "Domestic    8\n",
       "IPL         7\n",
       "ODI         8\n",
       "Name: Total_Seasons, dtype: int64"
      ]
     },
     "metadata": {},
     "execution_count": 29
    }
   ],
   "source": [
    "df_gp_ob[\"Total_Seasons\"].min()"
   ]
  },
  {
   "cell_type": "code",
   "execution_count": 30,
   "metadata": {},
   "outputs": [
    {
     "output_type": "execute_result",
     "data": {
      "text/plain": [
       "Type\n",
       "Domestic    12\n",
       "IPL         12\n",
       "ODI         11\n",
       "Name: Total_Seasons, dtype: int64"
      ]
     },
     "metadata": {},
     "execution_count": 30
    }
   ],
   "source": [
    "df_gp_ob[\"Total_Seasons\"].max()"
   ]
  },
  {
   "cell_type": "code",
   "execution_count": 31,
   "metadata": {},
   "outputs": [
    {
     "output_type": "execute_result",
     "data": {
      "text/plain": [
       "          count       mean       std  min  25%   50%   75%   max\n",
       "Type                                                            \n",
       "Domestic    2.0  10.000000  2.828427  8.0  9.0  10.0  11.0  12.0\n",
       "IPL         3.0  10.333333  2.886751  7.0  9.5  12.0  12.0  12.0\n",
       "ODI         3.0   9.666667  1.527525  8.0  9.0  10.0  10.5  11.0"
      ],
      "text/html": "<div>\n<style scoped>\n    .dataframe tbody tr th:only-of-type {\n        vertical-align: middle;\n    }\n\n    .dataframe tbody tr th {\n        vertical-align: top;\n    }\n\n    .dataframe thead th {\n        text-align: right;\n    }\n</style>\n<table border=\"1\" class=\"dataframe\">\n  <thead>\n    <tr style=\"text-align: right;\">\n      <th></th>\n      <th>count</th>\n      <th>mean</th>\n      <th>std</th>\n      <th>min</th>\n      <th>25%</th>\n      <th>50%</th>\n      <th>75%</th>\n      <th>max</th>\n    </tr>\n    <tr>\n      <th>Type</th>\n      <th></th>\n      <th></th>\n      <th></th>\n      <th></th>\n      <th></th>\n      <th></th>\n      <th></th>\n      <th></th>\n    </tr>\n  </thead>\n  <tbody>\n    <tr>\n      <th>Domestic</th>\n      <td>2.0</td>\n      <td>10.000000</td>\n      <td>2.828427</td>\n      <td>8.0</td>\n      <td>9.0</td>\n      <td>10.0</td>\n      <td>11.0</td>\n      <td>12.0</td>\n    </tr>\n    <tr>\n      <th>IPL</th>\n      <td>3.0</td>\n      <td>10.333333</td>\n      <td>2.886751</td>\n      <td>7.0</td>\n      <td>9.5</td>\n      <td>12.0</td>\n      <td>12.0</td>\n      <td>12.0</td>\n    </tr>\n    <tr>\n      <th>ODI</th>\n      <td>3.0</td>\n      <td>9.666667</td>\n      <td>1.527525</td>\n      <td>8.0</td>\n      <td>9.0</td>\n      <td>10.0</td>\n      <td>10.5</td>\n      <td>11.0</td>\n    </tr>\n  </tbody>\n</table>\n</div>"
     },
     "metadata": {},
     "execution_count": 31
    }
   ],
   "source": [
    "df_gp_ob[\"Total_Seasons\"].describe()"
   ]
  },
  {
   "cell_type": "code",
   "execution_count": 32,
   "metadata": {},
   "outputs": [
    {
     "output_type": "execute_result",
     "data": {
      "text/plain": [
       "  Team       Captain   Vice_Captain  Won_times  Total_Seasons  Squad_team  \\\n",
       "0  RCB   Virat Kohli  AB de villers        NaN             12          40   \n",
       "1   MI  Rohit Sharma      K Pollard        5.0             12          38   \n",
       "2  CSK      MS Dhoni       A Jadeja        3.0             10          41   \n",
       "3  KXP      KL Rahul      M Agarwal        NaN             11          42   \n",
       "4  KKR      D Kartik       A Russel        2.0              8          38   \n",
       "5  SRH       Dwarner       M Pandey        1.0              7          39   \n",
       "6   DC        S Iyer         R Pant        2.0             12          40   \n",
       "7   RR       S Smith       A Rahane        1.0              8          39   \n",
       "\n",
       "       Type    Age  \n",
       "0       IPL  30-35  \n",
       "1       IPL  30-35  \n",
       "2       ODI  35-40  \n",
       "3       ODI  25-30  \n",
       "4       ODI  30-35  \n",
       "5       IPL  20-25  \n",
       "6  Domestic  20-25  \n",
       "7  Domestic  25-30  "
      ],
      "text/html": "<div>\n<style scoped>\n    .dataframe tbody tr th:only-of-type {\n        vertical-align: middle;\n    }\n\n    .dataframe tbody tr th {\n        vertical-align: top;\n    }\n\n    .dataframe thead th {\n        text-align: right;\n    }\n</style>\n<table border=\"1\" class=\"dataframe\">\n  <thead>\n    <tr style=\"text-align: right;\">\n      <th></th>\n      <th>Team</th>\n      <th>Captain</th>\n      <th>Vice_Captain</th>\n      <th>Won_times</th>\n      <th>Total_Seasons</th>\n      <th>Squad_team</th>\n      <th>Type</th>\n      <th>Age</th>\n    </tr>\n  </thead>\n  <tbody>\n    <tr>\n      <th>0</th>\n      <td>RCB</td>\n      <td>Virat Kohli</td>\n      <td>AB de villers</td>\n      <td>NaN</td>\n      <td>12</td>\n      <td>40</td>\n      <td>IPL</td>\n      <td>30-35</td>\n    </tr>\n    <tr>\n      <th>1</th>\n      <td>MI</td>\n      <td>Rohit Sharma</td>\n      <td>K Pollard</td>\n      <td>5.0</td>\n      <td>12</td>\n      <td>38</td>\n      <td>IPL</td>\n      <td>30-35</td>\n    </tr>\n    <tr>\n      <th>2</th>\n      <td>CSK</td>\n      <td>MS Dhoni</td>\n      <td>A Jadeja</td>\n      <td>3.0</td>\n      <td>10</td>\n      <td>41</td>\n      <td>ODI</td>\n      <td>35-40</td>\n    </tr>\n    <tr>\n      <th>3</th>\n      <td>KXP</td>\n      <td>KL Rahul</td>\n      <td>M Agarwal</td>\n      <td>NaN</td>\n      <td>11</td>\n      <td>42</td>\n      <td>ODI</td>\n      <td>25-30</td>\n    </tr>\n    <tr>\n      <th>4</th>\n      <td>KKR</td>\n      <td>D Kartik</td>\n      <td>A Russel</td>\n      <td>2.0</td>\n      <td>8</td>\n      <td>38</td>\n      <td>ODI</td>\n      <td>30-35</td>\n    </tr>\n    <tr>\n      <th>5</th>\n      <td>SRH</td>\n      <td>Dwarner</td>\n      <td>M Pandey</td>\n      <td>1.0</td>\n      <td>7</td>\n      <td>39</td>\n      <td>IPL</td>\n      <td>20-25</td>\n    </tr>\n    <tr>\n      <th>6</th>\n      <td>DC</td>\n      <td>S Iyer</td>\n      <td>R Pant</td>\n      <td>2.0</td>\n      <td>12</td>\n      <td>40</td>\n      <td>Domestic</td>\n      <td>20-25</td>\n    </tr>\n    <tr>\n      <th>7</th>\n      <td>RR</td>\n      <td>S Smith</td>\n      <td>A Rahane</td>\n      <td>1.0</td>\n      <td>8</td>\n      <td>39</td>\n      <td>Domestic</td>\n      <td>25-30</td>\n    </tr>\n  </tbody>\n</table>\n</div>"
     },
     "metadata": {},
     "execution_count": 32
    }
   ],
   "source": [
    "# we can groupby using multiple columns\n",
    "df"
   ]
  },
  {
   "cell_type": "code",
   "execution_count": 36,
   "metadata": {},
   "outputs": [
    {
     "output_type": "execute_result",
     "data": {
      "text/plain": [
       "                     Won_times\n",
       "Total_Seasons Age             \n",
       "7             20-25        1.0\n",
       "8             25-30        1.0\n",
       "              30-35        2.0\n",
       "10            35-40        3.0\n",
       "11            25-30        0.0\n",
       "12            20-25        2.0\n",
       "              30-35        5.0"
      ],
      "text/html": "<div>\n<style scoped>\n    .dataframe tbody tr th:only-of-type {\n        vertical-align: middle;\n    }\n\n    .dataframe tbody tr th {\n        vertical-align: top;\n    }\n\n    .dataframe thead th {\n        text-align: right;\n    }\n</style>\n<table border=\"1\" class=\"dataframe\">\n  <thead>\n    <tr style=\"text-align: right;\">\n      <th></th>\n      <th></th>\n      <th>Won_times</th>\n    </tr>\n    <tr>\n      <th>Total_Seasons</th>\n      <th>Age</th>\n      <th></th>\n    </tr>\n  </thead>\n  <tbody>\n    <tr>\n      <th>7</th>\n      <th>20-25</th>\n      <td>1.0</td>\n    </tr>\n    <tr>\n      <th rowspan=\"2\" valign=\"top\">8</th>\n      <th>25-30</th>\n      <td>1.0</td>\n    </tr>\n    <tr>\n      <th>30-35</th>\n      <td>2.0</td>\n    </tr>\n    <tr>\n      <th>10</th>\n      <th>35-40</th>\n      <td>3.0</td>\n    </tr>\n    <tr>\n      <th>11</th>\n      <th>25-30</th>\n      <td>0.0</td>\n    </tr>\n    <tr>\n      <th rowspan=\"2\" valign=\"top\">12</th>\n      <th>20-25</th>\n      <td>2.0</td>\n    </tr>\n    <tr>\n      <th>30-35</th>\n      <td>5.0</td>\n    </tr>\n  </tbody>\n</table>\n</div>"
     },
     "metadata": {},
     "execution_count": 36
    }
   ],
   "source": [
    "df_gp_obj = df.groupby(['Total_Seasons', 'Age'])\n",
    "# here, grouby occurs first on basis of first argument, then by second argument, so on.\n",
    "pd.DataFrame(df_gp_obj['Won_times'].sum())"
   ]
  },
  {
   "cell_type": "code",
   "execution_count": 12,
   "metadata": {},
   "outputs": [
    {
     "output_type": "execute_result",
     "data": {
      "text/plain": [
       "  Team       Captain   Vice_Captain  Won_times  Total_Seasons  Squad_team  \\\n",
       "0  RCB   Virat Kohli  AB de villers        NaN             12          40   \n",
       "1   MI  Rohit Sharma      K Pollard        5.0             12          38   \n",
       "2  CSK      MS Dhoni       A Jadeja        3.0             10          41   \n",
       "3  KXP      KL Rahul      M Agarwal        NaN             11          42   \n",
       "4  KKR      D Kartik       A Russel        2.0              8          38   \n",
       "5  SRH       Dwarner       M Pandey        1.0              7          39   \n",
       "6   DC        S Iyer         R Pant        2.0             12          40   \n",
       "7   RR       S Smith       A Rahane        1.0              8          39   \n",
       "\n",
       "       Type    Age  \n",
       "0       IPL  30-35  \n",
       "1       IPL  30-35  \n",
       "2       ODI  35-40  \n",
       "3       ODI  25-30  \n",
       "4       ODI  30-35  \n",
       "5       IPL  20-25  \n",
       "6  Domestic  20-25  \n",
       "7  Domestic  25-30  "
      ],
      "text/html": "<div>\n<style scoped>\n    .dataframe tbody tr th:only-of-type {\n        vertical-align: middle;\n    }\n\n    .dataframe tbody tr th {\n        vertical-align: top;\n    }\n\n    .dataframe thead th {\n        text-align: right;\n    }\n</style>\n<table border=\"1\" class=\"dataframe\">\n  <thead>\n    <tr style=\"text-align: right;\">\n      <th></th>\n      <th>Team</th>\n      <th>Captain</th>\n      <th>Vice_Captain</th>\n      <th>Won_times</th>\n      <th>Total_Seasons</th>\n      <th>Squad_team</th>\n      <th>Type</th>\n      <th>Age</th>\n    </tr>\n  </thead>\n  <tbody>\n    <tr>\n      <th>0</th>\n      <td>RCB</td>\n      <td>Virat Kohli</td>\n      <td>AB de villers</td>\n      <td>NaN</td>\n      <td>12</td>\n      <td>40</td>\n      <td>IPL</td>\n      <td>30-35</td>\n    </tr>\n    <tr>\n      <th>1</th>\n      <td>MI</td>\n      <td>Rohit Sharma</td>\n      <td>K Pollard</td>\n      <td>5.0</td>\n      <td>12</td>\n      <td>38</td>\n      <td>IPL</td>\n      <td>30-35</td>\n    </tr>\n    <tr>\n      <th>2</th>\n      <td>CSK</td>\n      <td>MS Dhoni</td>\n      <td>A Jadeja</td>\n      <td>3.0</td>\n      <td>10</td>\n      <td>41</td>\n      <td>ODI</td>\n      <td>35-40</td>\n    </tr>\n    <tr>\n      <th>3</th>\n      <td>KXP</td>\n      <td>KL Rahul</td>\n      <td>M Agarwal</td>\n      <td>NaN</td>\n      <td>11</td>\n      <td>42</td>\n      <td>ODI</td>\n      <td>25-30</td>\n    </tr>\n    <tr>\n      <th>4</th>\n      <td>KKR</td>\n      <td>D Kartik</td>\n      <td>A Russel</td>\n      <td>2.0</td>\n      <td>8</td>\n      <td>38</td>\n      <td>ODI</td>\n      <td>30-35</td>\n    </tr>\n    <tr>\n      <th>5</th>\n      <td>SRH</td>\n      <td>Dwarner</td>\n      <td>M Pandey</td>\n      <td>1.0</td>\n      <td>7</td>\n      <td>39</td>\n      <td>IPL</td>\n      <td>20-25</td>\n    </tr>\n    <tr>\n      <th>6</th>\n      <td>DC</td>\n      <td>S Iyer</td>\n      <td>R Pant</td>\n      <td>2.0</td>\n      <td>12</td>\n      <td>40</td>\n      <td>Domestic</td>\n      <td>20-25</td>\n    </tr>\n    <tr>\n      <th>7</th>\n      <td>RR</td>\n      <td>S Smith</td>\n      <td>A Rahane</td>\n      <td>1.0</td>\n      <td>8</td>\n      <td>39</td>\n      <td>Domestic</td>\n      <td>25-30</td>\n    </tr>\n  </tbody>\n</table>\n</div>"
     },
     "metadata": {},
     "execution_count": 12
    }
   ],
   "source": [
    "# We can create a new column in a Dataframe using other columns\n",
    "df = pd.read_csv(\"sample_book.csv\")\n",
    "df"
   ]
  },
  {
   "cell_type": "code",
   "execution_count": 14,
   "metadata": {},
   "outputs": [
    {
     "output_type": "execute_result",
     "data": {
      "text/plain": [
       "  Team       Captain   Vice_Captain  Won_times  Total_Seasons  Squad_team  \\\n",
       "0  RCB   Virat Kohli  AB de villers        NaN             12          40   \n",
       "1   MI  Rohit Sharma      K Pollard        5.0             12          38   \n",
       "2  CSK      MS Dhoni       A Jadeja        3.0             10          41   \n",
       "3  KXP      KL Rahul      M Agarwal        NaN             11          42   \n",
       "4  KKR      D Kartik       A Russel        2.0              8          38   \n",
       "5  SRH       Dwarner       M Pandey        1.0              7          39   \n",
       "6   DC        S Iyer         R Pant        2.0             12          40   \n",
       "7   RR       S Smith       A Rahane        1.0              8          39   \n",
       "\n",
       "       Type    Age  Squad_change_ratio  \n",
       "0       IPL  30-35            3.333333  \n",
       "1       IPL  30-35            3.166667  \n",
       "2       ODI  35-40            4.100000  \n",
       "3       ODI  25-30            3.818182  \n",
       "4       ODI  30-35            4.750000  \n",
       "5       IPL  20-25            5.571429  \n",
       "6  Domestic  20-25            3.333333  \n",
       "7  Domestic  25-30            4.875000  "
      ],
      "text/html": "<div>\n<style scoped>\n    .dataframe tbody tr th:only-of-type {\n        vertical-align: middle;\n    }\n\n    .dataframe tbody tr th {\n        vertical-align: top;\n    }\n\n    .dataframe thead th {\n        text-align: right;\n    }\n</style>\n<table border=\"1\" class=\"dataframe\">\n  <thead>\n    <tr style=\"text-align: right;\">\n      <th></th>\n      <th>Team</th>\n      <th>Captain</th>\n      <th>Vice_Captain</th>\n      <th>Won_times</th>\n      <th>Total_Seasons</th>\n      <th>Squad_team</th>\n      <th>Type</th>\n      <th>Age</th>\n      <th>Squad_change_ratio</th>\n    </tr>\n  </thead>\n  <tbody>\n    <tr>\n      <th>0</th>\n      <td>RCB</td>\n      <td>Virat Kohli</td>\n      <td>AB de villers</td>\n      <td>NaN</td>\n      <td>12</td>\n      <td>40</td>\n      <td>IPL</td>\n      <td>30-35</td>\n      <td>3.333333</td>\n    </tr>\n    <tr>\n      <th>1</th>\n      <td>MI</td>\n      <td>Rohit Sharma</td>\n      <td>K Pollard</td>\n      <td>5.0</td>\n      <td>12</td>\n      <td>38</td>\n      <td>IPL</td>\n      <td>30-35</td>\n      <td>3.166667</td>\n    </tr>\n    <tr>\n      <th>2</th>\n      <td>CSK</td>\n      <td>MS Dhoni</td>\n      <td>A Jadeja</td>\n      <td>3.0</td>\n      <td>10</td>\n      <td>41</td>\n      <td>ODI</td>\n      <td>35-40</td>\n      <td>4.100000</td>\n    </tr>\n    <tr>\n      <th>3</th>\n      <td>KXP</td>\n      <td>KL Rahul</td>\n      <td>M Agarwal</td>\n      <td>NaN</td>\n      <td>11</td>\n      <td>42</td>\n      <td>ODI</td>\n      <td>25-30</td>\n      <td>3.818182</td>\n    </tr>\n    <tr>\n      <th>4</th>\n      <td>KKR</td>\n      <td>D Kartik</td>\n      <td>A Russel</td>\n      <td>2.0</td>\n      <td>8</td>\n      <td>38</td>\n      <td>ODI</td>\n      <td>30-35</td>\n      <td>4.750000</td>\n    </tr>\n    <tr>\n      <th>5</th>\n      <td>SRH</td>\n      <td>Dwarner</td>\n      <td>M Pandey</td>\n      <td>1.0</td>\n      <td>7</td>\n      <td>39</td>\n      <td>IPL</td>\n      <td>20-25</td>\n      <td>5.571429</td>\n    </tr>\n    <tr>\n      <th>6</th>\n      <td>DC</td>\n      <td>S Iyer</td>\n      <td>R Pant</td>\n      <td>2.0</td>\n      <td>12</td>\n      <td>40</td>\n      <td>Domestic</td>\n      <td>20-25</td>\n      <td>3.333333</td>\n    </tr>\n    <tr>\n      <th>7</th>\n      <td>RR</td>\n      <td>S Smith</td>\n      <td>A Rahane</td>\n      <td>1.0</td>\n      <td>8</td>\n      <td>39</td>\n      <td>Domestic</td>\n      <td>25-30</td>\n      <td>4.875000</td>\n    </tr>\n  </tbody>\n</table>\n</div>"
     },
     "metadata": {},
     "execution_count": 14
    }
   ],
   "source": [
    "# Creating a new column in the dataframe\n",
    "df['Squad_change_ratio'] = df[\"Squad_team\"]/df[\"Total_Seasons\"]\n",
    "df"
   ]
  },
  {
   "cell_type": "code",
   "execution_count": 51,
   "metadata": {},
   "outputs": [
    {
     "output_type": "execute_result",
     "data": {
      "text/plain": [
       "               Squad_team\n",
       "Total_Seasons            \n",
       "7               12.302839\n",
       "8               24.290221\n",
       "10              12.933754\n",
       "11              13.249211\n",
       "12              37.223975"
      ],
      "text/html": "<div>\n<style scoped>\n    .dataframe tbody tr th:only-of-type {\n        vertical-align: middle;\n    }\n\n    .dataframe tbody tr th {\n        vertical-align: top;\n    }\n\n    .dataframe thead th {\n        text-align: right;\n    }\n</style>\n<table border=\"1\" class=\"dataframe\">\n  <thead>\n    <tr style=\"text-align: right;\">\n      <th></th>\n      <th>Squad_team</th>\n    </tr>\n    <tr>\n      <th>Total_Seasons</th>\n      <th></th>\n    </tr>\n  </thead>\n  <tbody>\n    <tr>\n      <th>7</th>\n      <td>12.302839</td>\n    </tr>\n    <tr>\n      <th>8</th>\n      <td>24.290221</td>\n    </tr>\n    <tr>\n      <th>10</th>\n      <td>12.933754</td>\n    </tr>\n    <tr>\n      <th>11</th>\n      <td>13.249211</td>\n    </tr>\n    <tr>\n      <th>12</th>\n      <td>37.223975</td>\n    </tr>\n  </tbody>\n</table>\n</div>"
     },
     "metadata": {},
     "execution_count": 51
    }
   ],
   "source": [
    "# To get total share of a particular group:\n",
    "df_gp_ob = df.groupby(['Total_Seasons'])\n",
    "pd.DataFrame((df_gp_ob[\"Squad_team\"].sum()/df['Squad_team'].sum())*100)\n",
    "# Below data reveals Teams who played 12 Seasons have big Squad with them."
   ]
  },
  {
   "cell_type": "code",
   "execution_count": 7,
   "metadata": {},
   "outputs": [
    {
     "output_type": "execute_result",
     "data": {
      "text/plain": [
       "    Account                          Name            Rep        Manager  \\\n",
       "0    714466               Trantow-Barrows   Craig Booker   Debra Henley   \n",
       "1    714466               Trantow-Barrows   Craig Booker   Debra Henley   \n",
       "2    714466               Trantow-Barrows   Craig Booker   Debra Henley   \n",
       "3    737550  Fritsch, Russel and Anderson   Craig Booker   Debra Henley   \n",
       "4    146832                  Kiehn-Spinka  Daniel Hilton   Debra Henley   \n",
       "5    218895                     Kulas Inc  Daniel Hilton   Debra Henley   \n",
       "6    218895                     Kulas Inc  Daniel Hilton   Debra Henley   \n",
       "7    412290                 Jerde-Hilpert     John Smith   Debra Henley   \n",
       "8    740150                    Barton LLC     John Smith   Debra Henley   \n",
       "9    141962                    Herman LLC    Cedric Moss  Fred Anderson   \n",
       "10   163416                   Purdy-Kunde    Cedric Moss  Fred Anderson   \n",
       "11   239344                    Stokes LLC    Cedric Moss  Fred Anderson   \n",
       "12   239344                    Stokes LLC    Cedric Moss  Fred Anderson   \n",
       "13   307599   Kassulke, Ondricka and Metz     Wendy Yule  Fred Anderson   \n",
       "14   688981                   Keeling LLC     Wendy Yule  Fred Anderson   \n",
       "15   729833                     Koepp Ltd     Wendy Yule  Fred Anderson   \n",
       "16   729833                     Koepp Ltd     Wendy Yule  Fred Anderson   \n",
       "\n",
       "        Product  Quantity   Price     Status  \n",
       "0           CPU         1   30000  presented  \n",
       "1      Software         1   10000  presented  \n",
       "2   Maintenance         2    5000    pending  \n",
       "3           CPU         1   35000   declined  \n",
       "4           CPU         2   65000        won  \n",
       "5           CPU         2   40000    pending  \n",
       "6      Software         1   10000  presented  \n",
       "7   Maintenance         2    5000    pending  \n",
       "8           CPU         1   35000   declined  \n",
       "9           CPU         2   65000        won  \n",
       "10          CPU         1   30000  presented  \n",
       "11  Maintenance         1    5000    pending  \n",
       "12     Software         1   10000  presented  \n",
       "13  Maintenance         3    7000        won  \n",
       "14          CPU         5  100000        won  \n",
       "15          CPU         2   65000   declined  \n",
       "16      Monitor         2    5000  presented  "
      ],
      "text/html": "<div>\n<style scoped>\n    .dataframe tbody tr th:only-of-type {\n        vertical-align: middle;\n    }\n\n    .dataframe tbody tr th {\n        vertical-align: top;\n    }\n\n    .dataframe thead th {\n        text-align: right;\n    }\n</style>\n<table border=\"1\" class=\"dataframe\">\n  <thead>\n    <tr style=\"text-align: right;\">\n      <th></th>\n      <th>Account</th>\n      <th>Name</th>\n      <th>Rep</th>\n      <th>Manager</th>\n      <th>Product</th>\n      <th>Quantity</th>\n      <th>Price</th>\n      <th>Status</th>\n    </tr>\n  </thead>\n  <tbody>\n    <tr>\n      <th>0</th>\n      <td>714466</td>\n      <td>Trantow-Barrows</td>\n      <td>Craig Booker</td>\n      <td>Debra Henley</td>\n      <td>CPU</td>\n      <td>1</td>\n      <td>30000</td>\n      <td>presented</td>\n    </tr>\n    <tr>\n      <th>1</th>\n      <td>714466</td>\n      <td>Trantow-Barrows</td>\n      <td>Craig Booker</td>\n      <td>Debra Henley</td>\n      <td>Software</td>\n      <td>1</td>\n      <td>10000</td>\n      <td>presented</td>\n    </tr>\n    <tr>\n      <th>2</th>\n      <td>714466</td>\n      <td>Trantow-Barrows</td>\n      <td>Craig Booker</td>\n      <td>Debra Henley</td>\n      <td>Maintenance</td>\n      <td>2</td>\n      <td>5000</td>\n      <td>pending</td>\n    </tr>\n    <tr>\n      <th>3</th>\n      <td>737550</td>\n      <td>Fritsch, Russel and Anderson</td>\n      <td>Craig Booker</td>\n      <td>Debra Henley</td>\n      <td>CPU</td>\n      <td>1</td>\n      <td>35000</td>\n      <td>declined</td>\n    </tr>\n    <tr>\n      <th>4</th>\n      <td>146832</td>\n      <td>Kiehn-Spinka</td>\n      <td>Daniel Hilton</td>\n      <td>Debra Henley</td>\n      <td>CPU</td>\n      <td>2</td>\n      <td>65000</td>\n      <td>won</td>\n    </tr>\n    <tr>\n      <th>5</th>\n      <td>218895</td>\n      <td>Kulas Inc</td>\n      <td>Daniel Hilton</td>\n      <td>Debra Henley</td>\n      <td>CPU</td>\n      <td>2</td>\n      <td>40000</td>\n      <td>pending</td>\n    </tr>\n    <tr>\n      <th>6</th>\n      <td>218895</td>\n      <td>Kulas Inc</td>\n      <td>Daniel Hilton</td>\n      <td>Debra Henley</td>\n      <td>Software</td>\n      <td>1</td>\n      <td>10000</td>\n      <td>presented</td>\n    </tr>\n    <tr>\n      <th>7</th>\n      <td>412290</td>\n      <td>Jerde-Hilpert</td>\n      <td>John Smith</td>\n      <td>Debra Henley</td>\n      <td>Maintenance</td>\n      <td>2</td>\n      <td>5000</td>\n      <td>pending</td>\n    </tr>\n    <tr>\n      <th>8</th>\n      <td>740150</td>\n      <td>Barton LLC</td>\n      <td>John Smith</td>\n      <td>Debra Henley</td>\n      <td>CPU</td>\n      <td>1</td>\n      <td>35000</td>\n      <td>declined</td>\n    </tr>\n    <tr>\n      <th>9</th>\n      <td>141962</td>\n      <td>Herman LLC</td>\n      <td>Cedric Moss</td>\n      <td>Fred Anderson</td>\n      <td>CPU</td>\n      <td>2</td>\n      <td>65000</td>\n      <td>won</td>\n    </tr>\n    <tr>\n      <th>10</th>\n      <td>163416</td>\n      <td>Purdy-Kunde</td>\n      <td>Cedric Moss</td>\n      <td>Fred Anderson</td>\n      <td>CPU</td>\n      <td>1</td>\n      <td>30000</td>\n      <td>presented</td>\n    </tr>\n    <tr>\n      <th>11</th>\n      <td>239344</td>\n      <td>Stokes LLC</td>\n      <td>Cedric Moss</td>\n      <td>Fred Anderson</td>\n      <td>Maintenance</td>\n      <td>1</td>\n      <td>5000</td>\n      <td>pending</td>\n    </tr>\n    <tr>\n      <th>12</th>\n      <td>239344</td>\n      <td>Stokes LLC</td>\n      <td>Cedric Moss</td>\n      <td>Fred Anderson</td>\n      <td>Software</td>\n      <td>1</td>\n      <td>10000</td>\n      <td>presented</td>\n    </tr>\n    <tr>\n      <th>13</th>\n      <td>307599</td>\n      <td>Kassulke, Ondricka and Metz</td>\n      <td>Wendy Yule</td>\n      <td>Fred Anderson</td>\n      <td>Maintenance</td>\n      <td>3</td>\n      <td>7000</td>\n      <td>won</td>\n    </tr>\n    <tr>\n      <th>14</th>\n      <td>688981</td>\n      <td>Keeling LLC</td>\n      <td>Wendy Yule</td>\n      <td>Fred Anderson</td>\n      <td>CPU</td>\n      <td>5</td>\n      <td>100000</td>\n      <td>won</td>\n    </tr>\n    <tr>\n      <th>15</th>\n      <td>729833</td>\n      <td>Koepp Ltd</td>\n      <td>Wendy Yule</td>\n      <td>Fred Anderson</td>\n      <td>CPU</td>\n      <td>2</td>\n      <td>65000</td>\n      <td>declined</td>\n    </tr>\n    <tr>\n      <th>16</th>\n      <td>729833</td>\n      <td>Koepp Ltd</td>\n      <td>Wendy Yule</td>\n      <td>Fred Anderson</td>\n      <td>Monitor</td>\n      <td>2</td>\n      <td>5000</td>\n      <td>presented</td>\n    </tr>\n  </tbody>\n</table>\n</div>"
     },
     "metadata": {},
     "execution_count": 7
    }
   ],
   "source": [
    "# Pivot Table: Alternative to Group By \n",
    "# Useful when we want to summarise two categorical columns. But dangerous since pivot_table has some special defaults.\n",
    "# Syntax: pd.pivot_table(dataframe, index = col_name_as_index, values = col_on_which_we_want_to_apply_agg_func\", aggfunc = \"sum/median/..\"\n",
    "# Note : for mode(), use value_counts()\n",
    "\n",
    "df = pd.read_excel(\"sales-funnel.xlsx\")\n",
    "df.to_csv(\"sales-funnel.csv\", encoding = 'utf-8', index=False)\n",
    "df"
   ]
  },
  {
   "cell_type": "code",
   "execution_count": 9,
   "metadata": {},
   "outputs": [
    {
     "output_type": "execute_result",
     "data": {
      "text/plain": [
       "                                  Account                      Price  \\\n",
       "Manager                      Debra Henley Fred Anderson Debra Henley   \n",
       "Name                                                                   \n",
       "Barton LLC                       740150.0           NaN      35000.0   \n",
       "Fritsch, Russel and Anderson     737550.0           NaN      35000.0   \n",
       "Herman LLC                            NaN      141962.0          NaN   \n",
       "Jerde-Hilpert                    412290.0           NaN       5000.0   \n",
       "Kassulke, Ondricka and Metz           NaN      307599.0          NaN   \n",
       "Keeling LLC                           NaN      688981.0          NaN   \n",
       "Kiehn-Spinka                     146832.0           NaN      65000.0   \n",
       "Koepp Ltd                             NaN      729833.0          NaN   \n",
       "Kulas Inc                        218895.0           NaN      25000.0   \n",
       "Purdy-Kunde                           NaN      163416.0          NaN   \n",
       "Stokes LLC                            NaN      239344.0          NaN   \n",
       "Trantow-Barrows                  714466.0           NaN      15000.0   \n",
       "\n",
       "                                               Quantity                \n",
       "Manager                      Fred Anderson Debra Henley Fred Anderson  \n",
       "Name                                                                   \n",
       "Barton LLC                             NaN     1.000000           NaN  \n",
       "Fritsch, Russel and Anderson           NaN     1.000000           NaN  \n",
       "Herman LLC                         65000.0          NaN           2.0  \n",
       "Jerde-Hilpert                          NaN     2.000000           NaN  \n",
       "Kassulke, Ondricka and Metz         7000.0          NaN           3.0  \n",
       "Keeling LLC                       100000.0          NaN           5.0  \n",
       "Kiehn-Spinka                           NaN     2.000000           NaN  \n",
       "Koepp Ltd                          35000.0          NaN           2.0  \n",
       "Kulas Inc                              NaN     1.500000           NaN  \n",
       "Purdy-Kunde                        30000.0          NaN           1.0  \n",
       "Stokes LLC                          7500.0          NaN           1.0  \n",
       "Trantow-Barrows                        NaN     1.333333           NaN  "
      ],
      "text/html": "<div>\n<style scoped>\n    .dataframe tbody tr th:only-of-type {\n        vertical-align: middle;\n    }\n\n    .dataframe tbody tr th {\n        vertical-align: top;\n    }\n\n    .dataframe thead tr th {\n        text-align: left;\n    }\n\n    .dataframe thead tr:last-of-type th {\n        text-align: right;\n    }\n</style>\n<table border=\"1\" class=\"dataframe\">\n  <thead>\n    <tr>\n      <th></th>\n      <th colspan=\"2\" halign=\"left\">Account</th>\n      <th colspan=\"2\" halign=\"left\">Price</th>\n      <th colspan=\"2\" halign=\"left\">Quantity</th>\n    </tr>\n    <tr>\n      <th>Manager</th>\n      <th>Debra Henley</th>\n      <th>Fred Anderson</th>\n      <th>Debra Henley</th>\n      <th>Fred Anderson</th>\n      <th>Debra Henley</th>\n      <th>Fred Anderson</th>\n    </tr>\n    <tr>\n      <th>Name</th>\n      <th></th>\n      <th></th>\n      <th></th>\n      <th></th>\n      <th></th>\n      <th></th>\n    </tr>\n  </thead>\n  <tbody>\n    <tr>\n      <th>Barton LLC</th>\n      <td>740150.0</td>\n      <td>NaN</td>\n      <td>35000.0</td>\n      <td>NaN</td>\n      <td>1.000000</td>\n      <td>NaN</td>\n    </tr>\n    <tr>\n      <th>Fritsch, Russel and Anderson</th>\n      <td>737550.0</td>\n      <td>NaN</td>\n      <td>35000.0</td>\n      <td>NaN</td>\n      <td>1.000000</td>\n      <td>NaN</td>\n    </tr>\n    <tr>\n      <th>Herman LLC</th>\n      <td>NaN</td>\n      <td>141962.0</td>\n      <td>NaN</td>\n      <td>65000.0</td>\n      <td>NaN</td>\n      <td>2.0</td>\n    </tr>\n    <tr>\n      <th>Jerde-Hilpert</th>\n      <td>412290.0</td>\n      <td>NaN</td>\n      <td>5000.0</td>\n      <td>NaN</td>\n      <td>2.000000</td>\n      <td>NaN</td>\n    </tr>\n    <tr>\n      <th>Kassulke, Ondricka and Metz</th>\n      <td>NaN</td>\n      <td>307599.0</td>\n      <td>NaN</td>\n      <td>7000.0</td>\n      <td>NaN</td>\n      <td>3.0</td>\n    </tr>\n    <tr>\n      <th>Keeling LLC</th>\n      <td>NaN</td>\n      <td>688981.0</td>\n      <td>NaN</td>\n      <td>100000.0</td>\n      <td>NaN</td>\n      <td>5.0</td>\n    </tr>\n    <tr>\n      <th>Kiehn-Spinka</th>\n      <td>146832.0</td>\n      <td>NaN</td>\n      <td>65000.0</td>\n      <td>NaN</td>\n      <td>2.000000</td>\n      <td>NaN</td>\n    </tr>\n    <tr>\n      <th>Koepp Ltd</th>\n      <td>NaN</td>\n      <td>729833.0</td>\n      <td>NaN</td>\n      <td>35000.0</td>\n      <td>NaN</td>\n      <td>2.0</td>\n    </tr>\n    <tr>\n      <th>Kulas Inc</th>\n      <td>218895.0</td>\n      <td>NaN</td>\n      <td>25000.0</td>\n      <td>NaN</td>\n      <td>1.500000</td>\n      <td>NaN</td>\n    </tr>\n    <tr>\n      <th>Purdy-Kunde</th>\n      <td>NaN</td>\n      <td>163416.0</td>\n      <td>NaN</td>\n      <td>30000.0</td>\n      <td>NaN</td>\n      <td>1.0</td>\n    </tr>\n    <tr>\n      <th>Stokes LLC</th>\n      <td>NaN</td>\n      <td>239344.0</td>\n      <td>NaN</td>\n      <td>7500.0</td>\n      <td>NaN</td>\n      <td>1.0</td>\n    </tr>\n    <tr>\n      <th>Trantow-Barrows</th>\n      <td>714466.0</td>\n      <td>NaN</td>\n      <td>15000.0</td>\n      <td>NaN</td>\n      <td>1.333333</td>\n      <td>NaN</td>\n    </tr>\n  </tbody>\n</table>\n</div>"
     },
     "metadata": {},
     "execution_count": 9
    }
   ],
   "source": [
    "pd.pivot_table(df, index='Name', columns='Manager')"
   ]
  },
  {
   "cell_type": "code",
   "execution_count": null,
   "metadata": {},
   "outputs": [],
   "source": [
    "# pandas pivot tables are exceedingly useful. refer - \n",
    "# https://pbpython.com/pandas-pivot-table-explained.html#:~:text=%20Pandas%20Pivot%20Table%20Explained%20%201%20Introduction.,a%20time.%20Add%20items%20and%20check...%20More%20"
   ]
  }
 ]
}